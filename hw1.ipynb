{
 "cells": [
  {
   "cell_type": "markdown",
   "source": [
    "## algorithm design and anlysis-2025 spring  homework 1 \n",
    "**Deadline**：2025.5.14\n",
    "\n",
    "**name**: An\n",
    "\n",
    "\n",
    "note：\n",
    "---\n",
    "1. 带有\\*的题目，申请免上课的同学，必须完成，其他同学选作；\n",
    "2. 请独立完成，如求助了他人或者大模型，请著明，并且不可省略算法分析部分；\n",
    "4. 如若作答有雷同，全部取消成绩；\n",
    "3. 需要书面作答的题目，可以通过引用图片的形式添加，但是注意上传项目时包含所引用的图片的源文件；\n",
    "4. $log_n$ 默认表示$log_2{n}$;"
   ],
   "metadata": {
    "collapsed": false
   }
  },
  {
   "cell_type": "markdown",
   "metadata": {},
   "source": [
    "## 问题 1\n",
    "\n",
    "对于下面的每一对表达式(A, B), A是否能表示为B的 $\\Theta, \\Omega ,O$形式. 请注意, 这些关系中的零个、一个或多个可能成立。列出所有正确的。经常发生一些学生会,把指示写错, 所以请把关系写完整, 例如: $A = O(B),  A =\\Theta(B)$, 或$A = \\Omega(B)$。\n",
    "\n",
    "1. $A=n^2-100n, B=n^2$\n",
    "2. $A=logn, B=log_{1.2}n$\n",
    "3. $A=3^{2n}, B=2^{4n}$\n",
    "4. $A=2^{logn}, B=n$\n",
    "5. $A=\\log{\\log}{n},B=10^{10^{100}}$"
   ]
  },
  {
   "cell_type": "markdown",
   "metadata": {},
   "source": [
    "can refer a handwritten picture, please upload the picture in /fig/xxx.png\n",
    "answer:\n",
    "大O是上界、大$\\Omega$是下界、大$\\Theta$是准确界（增长速度同阶），主要是看增长速度。\n",
    "并且，$A = O(B)$的意思是：A的上界是B；\n",
    "1. 看最高次项，A与B最高次项相同，则$A = O(B),  A =\\Theta(B), A = \\Omega(B)$\n",
    "2. 底越小(>1)，对数增长速度越大，$A = O(B)$\n",
    "3. A相当于是9的n次方，B相当于16的n次方，B的增长速度明显比A快，$A = O(B)$\n",
    "4. A等价为n，则与b相同，可以是下界，上界，准确界，$A = O(B),  A =\\Theta(B), A = \\Omega(B)$\n",
    "5. B是一个准确的值，不随n变化而变化，所以A不能表示为B的 $\\Theta, \\Omega ,O$形式\n"
   ]
  },
  {
   "cell_type": "markdown",
   "metadata": {},
   "source": [
    "## 问题 2：\n",
    "\n",
    "假设有函数 $f$ 和 $g$ 使得 $f(n)$ = $O(g(n))$ 对于下面的每一个陈述, 请判断对错, 如果正确请给出证明, 否则请给出一个反例。\n",
    "\n",
    "1. $\\log{f(n)}$ = $O(\\log(1+g(n)))$\n",
    "2. $3^{f(n)}=O(3^{g(n)})$\n",
    "3. $(f(n))^2=O((g(n))^2)$ "
   ]
  },
  {
   "cell_type": "markdown",
   "metadata": {},
   "source": [
    "you can refer a handwritten picture, pleas upload the picture in /fig/xxx.png\n",
    "answer:\n",
    "已知f的上界是g；且时间复杂度是加绝对值的，应为正数；\n",
    "1. 是正确的，根据已知且log函数单调增，则$\\log{f(n)}$的上界是$\\log{g(n)}$，又$\\log{g(n)}$与$\\log{1+g(n)}$同阶，则$\\log{f(n)}$ = $O(\\log(1+g(n)))$\n",
    "2. 是正确的，$3^n$也是单调增，$3^{f(n)}$的上界是$3^{g(n)}$，则$3^{f(n)}=O(3^{g(n)})$\n",
    "3. 是正确的，对于绝对值来说，函数的平方也是单调增的，$(f(n))^2$的上界是$(g(n))^2$，则$(f(n))^2=O((g(n))^2)$ "
   ]
  },
  {
   "cell_type": "markdown",
   "metadata": {},
   "source": [
    "## 问题 3\n",
    "\n",
    "根据下列递归公式, 计算下列 $T(n)$ 对应的的渐近上界。要求所求的边界尽可能的紧（tight）, 请写明步骤。\n",
    "\n",
    "1. $T(1)=1; T(n)=T(n/4)+1$ for $n>1$\n",
    "2. $T(1)=1;T(n)=3T(n/3)+n^2$ for $n>1$\n",
    "3. $T(1)=1;T(n)=T(2n/3)+1$ for $n>1$\n",
    "4. $T(1)=1;T(n)=5T(n/4)+n$ for $n>1$\n",
    "5. $T(n)=1 \\ for\\ n \\le 2 ; T(n)=T(\\sqrt{n})+1 \\ for \\ n>2$"
   ]
  },
  {
   "cell_type": "markdown",
   "metadata": {},
   "source": [
    "can refer a handwritten picture, pleas upload the picture in /fig/xxx.png\n",
    "answer:\n",
    "根据主定理进行判断和求解；主定理：$T(n) = aT(n/b) + f(n)$，将函数$f(n)$与$n^{log_b(a)}$进行比较，前大取前，后大取后，相等取后$*log(n)$\n",
    "1. $a=1,b=4,f(n)=1$，则$1$与$n^{log_4(1)}=1$相比较，相等，所以解为$T(n)= \\theta(logn)$\n",
    "2. $a=3,b=3,f(n)=n^2$，则$n^2$与$n^{log_3(3)}=n$相比较，前者大，解为$T(n)= \\theta(n^2)$\n",
    "3. $a=1,b=3/2,f(n)=1$，则$1$与$n^{log_(3/2)(1)}=1$相比较，相等，解为$T(n)= \\theta(logn)$\n",
    "4. $a=5,b=4,f(n)=n$，则$n$与$n^{log_4(5)}=1.16n$相比较，后者大，解为$T(n)= \\theta(n^{log_4(5)})$\n",
    "5. 特别的，用变量替换，令$m=log_2(n)$，则$n=2^m$也就是$T(2^m)=1 \\ for\\  m≤1;T(2^m)=T(2^{m/2})+1 \\ for\\  m>1$\n",
    "我们再令$S(m)=T(2^m)$，则有$S(m)=S(m/2)+1$，再用主定理，得到$S(m)=\\theta(logm)$，因此$T(n)=S(logn)=\\theta(\\log{\\log}{n})$"
   ]
  },
  {
   "cell_type": "markdown",
   "metadata": {},
   "source": [
    "## 问题 4：\n",
    "\n",
    "给定一个包含n个元素的数组 `profits` , 它的第 `i` 个元素 `profits[i]` 表示一支股票第 `i` 天的**收益**（正数表示涨, 负数表示跌）。你只能选择 **某一天** 买入这只股票, 并选择在 **未来的某一个不同的日子** 卖出该股票。\n",
    "\n",
    "1. 设计一个算法来计算你所能获取的最大利润和对应买入和卖出的日期。请分析算法方案, 计算其时间复杂度, 并且使用python编程实现该算法。\n",
    "\n",
    "2. \\* 设计一个时间复杂度为 $O(n)$的算法实现该算法\n",
    "\n",
    "e.g. :\n",
    "---\n",
    "profits=[3,2,1,-7,5,2,-1,3,-1], 第5天买入, 第8天卖出, 收益最大：9\n",
    "\n"
   ]
  },
  {
   "cell_type": "markdown",
   "metadata": {},
   "source": [
    "idea:按照例子，理解为买入时在该天涨跌之前买，卖出时在该天涨跌之后卖。\n",
    "最大子段和问题，先初始化，用i遍历数组，记录当前收益，每天比较当前收益与最大收益，更新最大收益和起始结束天，只有当跌破后第二天不会涨回来才将当前收益置0；\n",
    "\n",
    "该算法的时间复杂度应该是O(n)，adjusted数组的赋值是O(n)级的，主循环只有一层，也是O(n)级的，所以应该是O(n)"
   ]
  },
  {
   "cell_type": "code",
   "execution_count": 82,
   "metadata": {
    "ExecuteTime": {
     "end_time": "2025-05-13T12:11:59.262543Z",
     "start_time": "2025-05-13T12:11:59.254613Z"
    }
   },
   "outputs": [
    {
     "name": "stdout",
     "output_type": "stream",
     "text": [
      "第2天后当前的收益:5,此前记录最大收益为:0\n",
      "第3天后当前的收益:6,此前记录最大收益为:5\n",
      "第4天后当前的收益:0,此前记录最大收益为:6\n",
      "第5天后当前的收益:5,此前记录最大收益为:6\n",
      "第6天后当前的收益:7,此前记录最大收益为:6\n",
      "第7天后当前的收益:6,此前记录最大收益为:7\n",
      "第8天后当前的收益:9,此前记录最大收益为:7\n",
      "第9天后当前的收益:8,此前记录最大收益为:9\n",
      "第5天买入，第8天卖出，收益最大为：9\n"
     ]
    }
   ],
   "source": [
    "# add your code\n",
    "def max_profit(profits):\n",
    "    if not profits or len(profits) < 2: #空或只有一天 则买不了\n",
    "        return 0, -1, -1\n",
    "\n",
    "    adjusted = profits[1:] #从第二天开始统计\n",
    "    max_sum = 0\n",
    "    curr_sum = profits[0] #计算第一天的利润\n",
    "    start = 1\n",
    "\n",
    "    best_start = best_end = -1\n",
    "\n",
    "    for i in range(len(adjusted)):\n",
    "        curr_sum += adjusted[i]\n",
    "        if curr_sum <= 0 and i != 0:\n",
    "            if (i+1 < len(adjusted)) and abs(adjusted[i]) > adjusted[i+1]: #\n",
    "                curr_sum = 0\n",
    "                start = i + 3\n",
    "            \n",
    "        print(f\"第{i+2}天后当前的收益:{curr_sum},此前记录最大收益为:{max_sum}\")\n",
    "\n",
    "        if curr_sum > max_sum:\n",
    "            max_sum = curr_sum\n",
    "            best_start = start\n",
    "            best_end = i\n",
    "\n",
    "    # 映射到原始数组中的天数（1-based）\n",
    "    buy_day = best_start       # 买入日在 adjusted[i] 前，即原 profits 中的 best_start\n",
    "    sell_day = best_end + 1    # 卖出日是 adjusted 的 j，对应 profits 中 j+1\n",
    "\n",
    "    return max_sum, buy_day, sell_day + 1  # 转换为1-based\n",
    "\n",
    "profits = [3, 2, 1, -7, 5, 2, -1, 3, -1]\n",
    "#profits = [3,-4,2]\n",
    "#profits = [3,-4]\n",
    "#profits = [3, 2, 1, 7, 5, 2, 1, 3, 1]\n",
    "#profits = [3, 2, 1, 7, 5, 2, 1, -30, 10,1]\n",
    "#profits = [-5,6]\n",
    "#profits = [1,-2,3,-4,5,-6,7,-8,90,-5,-91,100]\n",
    "result = max_profit(profits)\n",
    "print(f\"第{result[1]}天买入，第{result[2]}天卖出，收益最大为：{result[0]}\")"
   ]
  },
  {
   "cell_type": "code",
   "execution_count": null,
   "metadata": {},
   "outputs": [],
   "source": [
    "# an algorithm with O(n)\n",
    "# 如上（复杂度没分析错的话）"
   ]
  },
  {
   "cell_type": "markdown",
   "metadata": {},
   "source": [
    "## 问题 5：\n",
    "\n",
    "观察下方的分治算法（divide-and-conquer algorithm）的伪代码, 回答下面问题\n",
    "\n",
    "```latex\n",
    "DoSomething(A,p,r)\n",
    "-----\n",
    "n := r-p+1\n",
    "if n=2 and A[p]>A[r] then\n",
    "    swap A[p] and A[r]\n",
    "else if n >= 3 then\n",
    "    m = ceil(2n/3)\n",
    "    DoSomething(A,p,p+m-1)\n",
    "    DoSomething(A,r-m+1,r)\n",
    "    DoSomething(A,p,p+m-1)  \n",
    "    \n",
    "---\n",
    "first call: DoSomething(A,1,n)\n",
    "```\n",
    "\n",
    "note：$ceil(2n/3)=\\left\\lceil {2n/3} \\right\\rceil$；$:=$ 表示赋值, 等价于 $\\to$；A是一个包含n的整数元素的数组, \n",
    "\n",
    "1. 写出该算法时间复杂度的递归公式, 并求解其对应的渐进表示\n",
    "2. 描述一下该算法的功能, 并判断是否是最高效的解决方案\n",
    "3. 使用python编程实现上述算法或其对应的更高效版本的算法\n"
   ]
  },
  {
   "cell_type": "markdown",
   "metadata": {},
   "source": [
    "idea：\n",
    "关于第三题，Python内置的归并排序就是更高效的算法，所以...sort()? O(nlogn)"
   ]
  },
  {
   "cell_type": "markdown",
   "metadata": {},
   "source": [
    "answer:\n",
    "1. 当n＝2，是O(1);当n≥3，有三次与m相关的递归调用，所以递归公式简化为$T(n)= 3T(2n/3)+O(1)$，用主定理，得到$O(1)<n^{log_{3/2}3}$\n",
    "所以，渐进表示为$T(n) = \\theta(n^{log_{3/2}3})$\n",
    "2. 是一种递归排序算法，在网上搜索发现很像臭皮匠排序，这样的时间复杂度明显不是最高效的解决方案。"
   ]
  },
  {
   "cell_type": "code",
   "execution_count": 83,
   "metadata": {
    "ExecuteTime": {
     "end_time": "2025-05-13T12:35:24.538548Z",
     "start_time": "2025-05-13T12:35:24.531608Z"
    }
   },
   "outputs": [
    {
     "name": "stdout",
     "output_type": "stream",
     "text": [
      "排序后： [1, 2, 3, 5, 7, 8, 9]\n"
     ]
    }
   ],
   "source": [
    "# add your code here\n",
    "#用Python实现该低效的算法\n",
    "import math\n",
    "\n",
    "def do_something(A, p, r):\n",
    "    n = r - p + 1\n",
    "    if n == 2 and A[p] > A[r]:\n",
    "        A[p], A[r] = A[r], A[p]\n",
    "    elif n >= 3:\n",
    "        m = math.ceil(2 * n / 3)\n",
    "        do_something(A, p, p + m - 1)\n",
    "        do_something(A, r - m + 1, r)\n",
    "        do_something(A, p, p + m - 1)\n",
    "\n",
    "arr = [9, 7, 3, 1, 5, 2, 8]\n",
    "do_something(arr, 0, len(arr) - 1)\n",
    "print(\"排序后：\", arr)\n",
    "\n",
    "# your algorithm time complexity is :\n",
    "# $O(n^{log_{3/2}3})$"
   ]
  },
  {
   "cell_type": "markdown",
   "metadata": {},
   "source": [
    "## 问题 6：\n",
    "\n",
    "给定一个大小为 `n` 的数组 `nums` , 返回其中的多数元素。多数元素是指在数组中出现次数 **大于** `⌊ n/2 ⌋` 的元素。\n",
    "\n",
    "你可以假设数组是非空的, 并且给定的数组总是存在多数元素。\n",
    "\n",
    "1. 设计一个算法找到给定数组的多数元素, 分析算法设计思路, 计算算法时间复杂度, 使用python编程实现\n",
    "2. \\* 设计时间复杂度为 O(n)、空间复杂度为 O(1) 的算法解决此问题, 分析算法设计思路, 使用python编程实现\n",
    "\n",
    "e.g.:\n",
    "---\n",
    "1. nums=[3,2,3], 返回3\n",
    "2. nums=[2,2,1,1,1,2,2], 返回2\n"
   ]
  },
  {
   "cell_type": "markdown",
   "metadata": {},
   "source": [
    "idea：\n",
    "因为已知数组是非空的, 并且给定的数组总是存在多数元素，所以：\n",
    "1. 用字典，如果该数出现次数大于了数组的一半，就直接返回,时间复杂度是O(n)，空间复杂度也是O(n)\n"
   ]
  },
  {
   "cell_type": "code",
   "execution_count": 84,
   "metadata": {
    "ExecuteTime": {
     "end_time": "2025-05-13T12:40:35.922507Z",
     "start_time": "2025-05-13T12:40:35.915981Z"
    }
   },
   "outputs": [
    {
     "name": "stdout",
     "output_type": "stream",
     "text": [
      "3\n",
      "2\n"
     ]
    }
   ],
   "source": [
    "# add your code here\n",
    "def majority_element(nums):\n",
    "    counts = {}\n",
    "    majority_count = len(nums) // 2\n",
    "\n",
    "    for num in nums:\n",
    "        counts[num] = counts.get(num, 0) + 1\n",
    "        if counts[num] > majority_count:\n",
    "            return num\n",
    "\n",
    "print(majority_element([3, 2, 3]))  \n",
    "print(majority_element([2, 2, 1, 1, 1, 2, 2])) \n",
    "\n",
    "# your algorithm time complexity is :\n",
    "# O(n)"
   ]
  },
  {
   "cell_type": "markdown",
   "metadata": {},
   "source": [
    "idea for 2\\*：用一个计数器来统计，是就+1，不是就-1，扣成零就更新此时的元素为最多数的候选，这样可以把空间复杂度降为O(1)"
   ]
  },
  {
   "cell_type": "code",
   "execution_count": 85,
   "metadata": {
    "ExecuteTime": {
     "end_time": "2025-05-13T12:49:58.029611Z",
     "start_time": "2025-05-13T12:49:58.024004Z"
    }
   },
   "outputs": [
    {
     "name": "stdout",
     "output_type": "stream",
     "text": [
      "3\n",
      "2\n"
     ]
    }
   ],
   "source": [
    "# algorithm time complexity：O(n), space complexity:O(1)\n",
    "# add your code here\n",
    "def majority_element(nums):\n",
    "    count = 0\n",
    "    candidate = None\n",
    "\n",
    "    for num in nums:\n",
    "        if count == 0:\n",
    "            candidate = num\n",
    "        count += (1 if num == candidate else -1)\n",
    "\n",
    "    return candidate\n",
    "\n",
    "print(majority_element([3, 2, 3]))   \n",
    "print(majority_element([2, 2, 1, 1, 1, 2, 2])) \n"
   ]
  },
  {
   "cell_type": "markdown",
   "metadata": {},
   "source": [
    "## 问题 7：\n",
    "\n",
    "给定一个包含不同整数元素的数组 $ A[1..n]$ ,并且满足条件：$A[1]>A[2]$ 并且 $A[n-1]<A[n]$; 规定：如果一个元素比它两边的邻居元素都小, 即：$A[x]<A[x-1], A[x]<A[x+1]$ , 称这个元素A[x]为“局部最小”。通过遍历一次数组, 我们可以很容易在 $O(n)$的时间复杂度下找到一个局部最小值, \n",
    "\n",
    "\n",
    "1. 分析该问题, 设计一个算法在$O(logn)$的时间复杂度下找到一个局部最小(返回数值), 要求：分析算法设计思路, 并且使用python编程实现\n",
    "2. \\* 设计算法找出所有局部最小值, 分析算法设计思路, 并使用python编程实现\n",
    "\n",
    "e.g.:\n",
    "---\n",
    "A=[9, 3, 7, 2, 1, 4, 5 ] 时,  局部最小元素为 3, 1\n"
   ]
  },
  {
   "cell_type": "markdown",
   "metadata": {},
   "source": [
    "idea：\n",
    "原来是O(n)，要变成O(logn)得每次搜一半，所以用二分查找"
   ]
  },
  {
   "cell_type": "code",
   "execution_count": 86,
   "metadata": {
    "ExecuteTime": {
     "end_time": "2025-05-13T12:58:06.098169Z",
     "start_time": "2025-05-13T12:58:06.092214Z"
    }
   },
   "outputs": [
    {
     "name": "stdout",
     "output_type": "stream",
     "text": [
      "一个局部最小值是： 1\n"
     ]
    }
   ],
   "source": [
    "# add your code here\n",
    "def find_min(arr):\n",
    "    left, right = 1, len(arr) - 2  # 排除首尾两个不可能的值\n",
    "\n",
    "    while left <= right:\n",
    "        mid = (left + right) // 2\n",
    "        if arr[mid] < arr[mid - 1] and arr[mid] < arr[mid + 1]:\n",
    "            return arr[mid]\n",
    "        elif arr[mid] > arr[mid - 1]:\n",
    "            right = mid - 1\n",
    "        else:\n",
    "            left = mid + 1\n",
    "\n",
    "    return None\n",
    "\n",
    "A = [9, 3, 7, 2, 1, 4, 5]\n",
    "print(\"一个局部最小值是：\", find_min(A))\n",
    "\n",
    "# your algorithm time complexity is :\n",
    "# O(logn)"
   ]
  },
  {
   "cell_type": "markdown",
   "metadata": {},
   "source": [
    "idea:要找到所有的局部最小，用O(n)的算法肯定可以实现，就是遍历整个数组，记录局部最小"
   ]
  },
  {
   "cell_type": "code",
   "execution_count": 87,
   "metadata": {
    "ExecuteTime": {
     "end_time": "2025-05-13T13:00:36.018282Z",
     "start_time": "2025-05-13T13:00:36.013381Z"
    }
   },
   "outputs": [
    {
     "name": "stdout",
     "output_type": "stream",
     "text": [
      "一个局部最小值是： [3, 1]\n"
     ]
    }
   ],
   "source": [
    "# add your code here\n",
    "def find_all_min(arr):\n",
    "    n = len(arr)\n",
    "    result = []\n",
    "    for i in range(1, n - 1):\n",
    "        if arr[i] < arr[i - 1] and arr[i] < arr[i + 1]:\n",
    "            result.append(arr[i])\n",
    "    return result\n",
    "\n",
    "A = [9, 3, 7, 2, 1, 4, 5]\n",
    "print(\"所有的局部最小值有：\", find_all_min(A))\n",
    "\n",
    "# your algorithm time complexity is :\n",
    "# O(n)"
   ]
  },
  {
   "cell_type": "markdown",
   "metadata": {},
   "source": [
    "## 问题 8：\n",
    "\n",
    "给定包含n个不同数字的一组数, 寻找一种基于比较的算法在这组数中找到k个最小的数字, 并按顺序输出它们。\n",
    "\n",
    "1. 将n个数先进行排序, 然后按顺序输出最小的k个数。要求：选择合适的排序算法实现上述操作, 计算算法时间复杂度, 并使用python编程实现。\n",
    "2. 建立一个包含这n个数的堆（heap）, 并且调用 k 次Extract-min 按顺序输出最小的k个数。使用往空堆中不断插入元素的方法建立堆, 分析这种方法建堆的时间复杂度, 并使用python编程实现\n",
    "3. \\* 假设数组中包含的数据总数目超过了计算机的存储能力, 请设计一个算法, 找到这堆数据的前k小的数值, 计算时间复杂度, 并使用python实现该算法, 假设计算机一定能存储k个数据。\n",
    "\n",
    "e.g.：\n",
    "---\n",
    "数组arr=[5,4,3,2,6,1,88,33,22,107] 的前3个最小数据为：1, 2, 3\n"
   ]
  },
  {
   "cell_type": "markdown",
   "metadata": {},
   "source": [
    "idea：\n",
    "1. 直接用Python的sort()，时间复杂度为$O(nlogn)$\n",
    "2. 建堆需要$O(nlogn)$，求前k个值需要$O(klogn)$,所以总体是$O((n+k)logn)$\n",
    "3. 用大顶堆，限定大顶堆的大小最多存k个数据，遍历数组，存入比堆顶小的数，维护保持堆序，堆满则弹出堆顶。"
   ]
  },
  {
   "cell_type": "code",
   "execution_count": 92,
   "metadata": {
    "ExecuteTime": {
     "end_time": "2025-05-13T13:18:41.574669Z",
     "start_time": "2025-05-13T13:18:41.566976Z"
    }
   },
   "outputs": [
    {
     "name": "stdout",
     "output_type": "stream",
     "text": [
      "前 3 小的数是： [1, 2, 3]\n",
      "前 3 小的数是： [1, 2, 3]\n",
      "前 3 小的数是： [1, 2, 3]\n"
     ]
    }
   ],
   "source": [
    "# add your code here\n",
    "# 1.\n",
    "def get_k_smallest_sort(arr, k):\n",
    "    arr.sort()\n",
    "    return arr[:k]\n",
    "\n",
    "arr = [5, 4, 3, 2, 6, 1, 88, 33, 22, 107]\n",
    "print(\"前 3 小的数是：\", get_k_smallest_sort(arr, 3))  # 输出: [1, 2, 3]\n",
    "\n",
    "# 2.\n",
    "import heapq\n",
    "\n",
    "def get_k_smallest_heap(arr, k):\n",
    "    heap = []\n",
    "    for num in arr:\n",
    "        heapq.heappush(heap, num)  # O(log n) 插入\n",
    "    \n",
    "    result = [heapq.heappop(heap) for _ in range(k)]  # O(k log n)\n",
    "    return result\n",
    "\n",
    "arr = [5, 4, 3, 2, 6, 1, 88, 33, 22, 107]\n",
    "print(\"前 3 小的数是：\", get_k_smallest_heap(arr[:], 3))  # 输出: [1, 2, 3]\n",
    "\n",
    "# 3.\n",
    "def get_k_smallest_maxheap(arr, k):\n",
    "    max_heap = []\n",
    "\n",
    "    for num in arr:\n",
    "        if len(max_heap) < k:\n",
    "            heapq.heappush(max_heap, -num)  # 用负值模拟大顶堆\n",
    "        else:\n",
    "            if -num > max_heap[0]:  # 如果当前数更小\n",
    "                heapq.heappop(max_heap)\n",
    "                heapq.heappush(max_heap, -num)\n",
    "\n",
    "    result = sorted([-x for x in max_heap])\n",
    "    return result\n",
    "\n",
    "arr = [5, 4, 3, 2, 6, 1, 88, 33, 22, 107]\n",
    "print(\"前 3 小的数是：\", get_k_smallest_maxheap(arr, 3)) \n",
    "# your algorithm time complexity is :"
   ]
  },
  {
   "cell_type": "markdown",
   "metadata": {},
   "source": [
    "## 问题 9：\n",
    "\n",
    "**选择问题**:给定一个包含n个未排序值的数组A和一个$k≤n$的整数, 返回A中最小的第k项。\n",
    "\n",
    "在课堂上, 学了一个简单的O(n)随机算法来解决选择问题。事实上还有一种更复杂的最坏情况下时间复杂度为$O(n)$ 的选择算法。假设使用一个黑盒过程来实现这个O(n)选择算法: 给定一个数组A、 $p < r$ 和 k,  $BB(A, p, r, k)$ 可以在$O(r−p+ 1)$时间内找到并报告$A[p..r]$中第k小的项的下标。假设你可以在线性时间内处理Partition过程。\n",
    "\n",
    "1. 请分析如何修改 Quicksort 算法可以使其最差情况下的运行时间为 $O(nlogn)$, 使用伪代码实现, 并分析为何修改后的版本最差情况的运行时间为$O(nlogn)$\n",
    "\n",
    "note: 伪代码中, 你可以直接调用` BB(A,p,r,k)`这个函数用于表示在最坏情况下时间复杂度为$O(n)$的选择算法；\n",
    "\n",
    "\n",
    "\n",
    "2. 找到一个更好的算法报告数组A中的前k小的项, 使用伪代码表示你的算法, 并分析你算法的时间复杂度。\n",
    "\n",
    "举例：A=[13, 3, 7, 9, 11, 1, 15, 2, 8, 10, 12, 16, 14, 5], 当k=4时, 应该报告1, 2, 3, 5(4应该是5吧？)\n",
    "\n",
    "note： 最直观的方法就是先将数组A排序, 然后从左向右报告其前k项, 这样操作的时间复杂度为$O(nlogn)$. 调用用` BB(A,p,r,k)`设计一个算法使其报告无序数组A的前k项, 满足时间复杂度好于$\\Theta(nlogn)$, 并且当$k=\\sqrt{n}$时, 你设计的算法时间复杂度应该为$\\Theta(n)$.\n",
    "\n",
    "\n",
    "\n",
    "3. 给定一个大小为n的数组, 找到一个 时间复杂度为$O(n log k)$ 的算法, 该算法将A中的元素重新排序, 使它们被划分为k个部分, 每个部分的元素小于或等于下一部分的元素。假设n和k都是2的幂。使用伪代码表示你的算法, 并分析时间复杂度。\n",
    "\n",
    "e.g.:\n",
    "---\n",
    "数组：[1,  3,  5,  7,  9,  11,  13,  15,  2,  4,  6,  8,  10,  12,  16,  14], k=4, \n",
    "\n",
    "对应重新排序的数组为：[1,  3,  2,  4]  [7,  6,  5,  8]  [12,  11,  10,  9]  [13,  14,  16,  15]\n",
    "\n",
    "\n"
   ]
  },
  {
   "cell_type": "markdown",
   "metadata": {},
   "source": [
    "idea：\n",
    "1. 快排中，哨兵pivot的选择是会影响到时间复杂度的，使用BB()来避免最坏情况，选择不坏的哨兵\n",
    "那么，BB()是O(n),Partition也是O(n),递归的层数是logn，且我们避免了最坏情况，于是最坏情况也是$O(nlogn)$\n",
    "伪代码：\n",
    "```latex\n",
    "BBQuicksort(A, p, r)\n",
    "    if p < r then\n",
    "        q := BB(A, p, r, ceil((r - p + 1) / 2))  // 让中位数作为 pivot 的下标\n",
    "        swap A[q] with A[r]                      // 把中位数放到末尾\n",
    "        m := Partition(A, p, r)                  \n",
    "        ModifiedQuicksort(A, p, m - 1)\n",
    "        ModifiedQuicksort(A, m + 1, r)\n",
    "```"
   ]
  },
  {
   "cell_type": "markdown",
   "source": [
    "idea：\n",
    "2. 可以用BB()找到第k小的值sk，然后再变量一遍数组，取出所有小于等于sk的值。\n",
    "调用BB是O(n),遍历数组也是O(n),则总时间复杂度也是O(n)\n",
    "伪代码：\n",
    "```latex\n",
    "BBFind_K_S(A, p, r, k)\n",
    "    q := BB(A, p, r, k)     // 找到第 k 小的元素 A[q]\n",
    "    x := A[q]               // 第 k 小的数的值\n",
    "\n",
    "    result := []\n",
    "    for i = p to r do\n",
    "        if A[i] < x then\n",
    "            result.append(A[i])\n",
    "    count = len(result)\n",
    "    \n",
    "    // 把所有等于 x 的也加入，直到达到 k 个\n",
    "    for i = p to r do\n",
    "        if A[i] == x then\n",
    "            result.append(A[i])\n",
    "        if len(result) == k:\n",
    "            break\n",
    "    return result\n",
    "\n",
    "```"
   ],
   "metadata": {
    "collapsed": false
   }
  },
  {
   "cell_type": "markdown",
   "source": [
    "idea：\n",
    "3. 可以递归使用BB()选择各个分界点，然后用partition把数组按这些分界点分为k个部分。\n",
    "没说每个块内是否完全有序？\n",
    "每次递归是O(n),分成两半，递归层数是logk,则时间复杂度是O(nlogk)\n",
    "\n",
    "伪代码：\n",
    "```latex\n",
    "BBPartition_KBlocks(A, p, r, k)\n",
    "    if k == 1:\n",
    "        return\n",
    "    \n",
    "    mid_block = k // 2\n",
    "    rank = p + (r - p + 1) * mid_block // k\n",
    "    q = BB(A, p, r, rank - p + 1)  // 找第k小数的下标\n",
    "    x = A[q]\n",
    "    \n",
    "    m = PartitionByValue(A, p, r, x)  // 用x分成两部分,小于等于的放左边，大于的放右边\n",
    "    \n",
    "    PartitionIntoKBlocks(A, p, m - 1, mid_block)\n",
    "    PartitionIntoKBlocks(A, m, r, k - mid_block)\n",
    "\n",
    "```"
   ],
   "metadata": {
    "collapsed": false
   }
  },
  {
   "cell_type": "markdown",
   "metadata": {},
   "source": [
    "## 问题 10：\n",
    "\n",
    "给定一个包含m个**字符串**的数组A, 其中不同的字符串可能有不同的字符数, 但数组中所有字符串的字符总数为n。设计一个算法在 $O(n)$ 时间内对字符串进行排序, 分析算法设计方案, 计算其时间复杂度, 并基于python编程实现该算法。请注意, 假设字符串只包含\"a\",\"b\",...,\"z\", \n",
    "\n",
    "\n",
    "\n",
    "举例1：数组A=[\"a\", \"da\", \"bde\", \"ab\", \"bc\", \"abdc\", \"cdba\"], 排序后的数组应该为：['a', 'ab', 'abdc', 'bc', 'bde', 'cdba', 'da']\n",
    "\n",
    "\n",
    "\n",
    "举例2：数组A=['ab', 'a', 'b', 'abc', 'ba', 'c'], 排序后的数组应该为：\n",
    "\n",
    "['a', 'ab', 'abc', 'b', 'ba', 'c']\n",
    "\n",
    "\n",
    "\n",
    "举例3：数组A=['aef', 'yzr', 'wr', 'ab', 'bhjc', 'lkabdc', 'pwcdba'],  排序后的数组应该为：['ab', 'aef', 'bhjc', 'lkabdc', 'pwcdba', 'wr', 'yzr']\n",
    "\n",
    "\n",
    "\n",
    "note：\n",
    "\n",
    "-  两个字符之间的比较可以考虑比较他们对应的ASCII码值；\n",
    "- python中可以使用`ord(\"a\")`返回字符 “a”对应的ASCII值"
   ]
  },
  {
   "cell_type": "markdown",
   "metadata": {},
   "source": [
    "idea:\n",
    "1. 为了统一，设定字符串不够长的后补\"\",再用计数排序从后向前排序，对各个字符串则使用基数排序从右向左。\n",
    "每一轮计数排序是O(n),最多处理max_len(s)轮，但是所有轮的总和字符数是n；所以总的复杂度还是O(n)"
   ]
  },
  {
   "cell_type": "code",
   "execution_count": 93,
   "metadata": {
    "ExecuteTime": {
     "end_time": "2025-05-13T14:33:37.593341Z",
     "start_time": "2025-05-13T14:33:37.558338Z"
    }
   },
   "outputs": [
    {
     "name": "stdout",
     "output_type": "stream",
     "text": [
      "['a', 'ab', 'abdc', 'bc', 'bde', 'cdba', 'da']\n",
      "['a', 'ab', 'abc', 'b', 'ba', 'c']\n",
      "['ab', 'aef', 'bhjc', 'lkabdc', 'pwcdba', 'wr', 'yzr']\n"
     ]
    }
   ],
   "source": [
    "# add your code here\n",
    "def radix_sort_strings(A):\n",
    "    if not A:\n",
    "        return A\n",
    "\n",
    "    # 找到字符串的最大长度\n",
    "    max_len = max(len(s) for s in A)\n",
    "\n",
    "    # 从最后一位到第一位进行计数排序\n",
    "    for pos in reversed(range(max_len)):\n",
    "        # 26个字母 + 1（处理空字符 ''）\n",
    "        count = [[] for _ in range(27)]\n",
    "\n",
    "        for s in A:\n",
    "            # 获取当前字符（从右往左），不足位置用''替代\n",
    "            ch = s[pos] if pos < len(s) else ''\n",
    "            # ''->0,'a'->1,\n",
    "            index = 0 if ch == '' else ord(ch) - ord('a') + 1\n",
    "            count[index].append(s)\n",
    "\n",
    "        # 合并结果\n",
    "        A = [s for bucket in count for s in bucket]\n",
    "\n",
    "    return A\n",
    "\n",
    "A1 = [\"a\", \"da\", \"bde\", \"ab\", \"bc\", \"abdc\", \"cdba\"]\n",
    "print(radix_sort_strings(A1))\n",
    "A2 = ['ab', 'a', 'b', 'abc', 'ba', 'c']\n",
    "print(radix_sort_strings(A2))\n",
    "A3 = ['aef', 'yzr', 'wr', 'ab', 'bhjc', 'lkabdc', 'pwcdba']\n",
    "print(radix_sort_strings(A3))\n",
    "# your algorithm time complexity is :\n",
    "# O(n)"
   ]
  },
  {
   "cell_type": "code",
   "outputs": [],
   "source": [],
   "metadata": {
    "collapsed": false
   }
  }
 ],
 "metadata": {
  "language_info": {
   "name": "python"
  },
  "kernelspec": {
   "name": "python3",
   "language": "python",
   "display_name": "Python 3 (ipykernel)"
  }
 },
 "nbformat": 4,
 "nbformat_minor": 2
}
