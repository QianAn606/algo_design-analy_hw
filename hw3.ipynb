{
 "cells": [
  {
   "cell_type": "markdown",
   "metadata": {},
   "source": [
    "## algorithm design and anlysis-2025 spring  homework 3\n",
    "**Deadline**：2025.5.14\n",
    "\n",
    "**name**: An\n",
    "\n",
    "\n",
    "note：\n",
    "---\n",
    "1. 带有\\*的题目，申请免上课的同学，必须完成，其他同学选作；\n",
    "2. 请独立完成，如求助了他人或者大模型，请著明，并且不可省略算法分析部分；\n",
    "4. 如若作答有雷同，全部取消成绩；\n",
    "3. 需要书面作答的题目，可以通过引用图片的形式添加，但是注意上传项目时包含所引用的图片的源文件；\n",
    "4. $log_n$ 默认表示$log_2{n}$;"
   ]
  },
  {
   "cell_type": "markdown",
   "metadata": {},
   "source": [
    "## 问题 1  \n",
    "\n",
    "请证明基于比较的排序算法计算复杂度下界为$\\Omega(nlogn)$"
   ]
  },
  {
   "cell_type": "markdown",
   "metadata": {},
   "source": [
    "you can refer a handwritten picture, pleas upload the picture in /fig/xxx.png\n",
    "answer：\n",
    "把比较算法看出一颗二叉决策树，那么其每个内部节点是一次比较，每个叶子节点都对应一种排列结果，且这个树的深度表示算法在最坏情况下所做的比较次数\n",
    "于是，n个元素一个包括n!即n的阶乘中排列，则决策树叶子节点数至少为n!，又最大叶子数肯定≤2的深度d次方，即2^d,也就是 $d ≥ log_2(n!)$\n",
    "由Stirling公式，可知$log_2(n!)$逼近与$\\theta(nlogn)$，即$d ≥ log_2(n!) = \\Omega(nlogn)$\n",
    "相关证明方法参考了大模型。"
   ]
  },
  {
   "cell_type": "markdown",
   "metadata": {},
   "source": [
    "## 问题 2 \n",
    "\n",
    "构建二叉搜索树\n",
    "\n",
    "> 1. 给定一个数组 [48, 33, 49, 47, 42, 46, 32], 构建一个二叉搜索树存储这些数据，请**绘制**所构建的**二叉搜索树**（标明结点的值）。\n",
    "> 2. 从第1问的二叉搜索树中删除33，请**绘制**删除33后的**二叉搜索树**（标明结点的值）\n",
    "\n",
    "- 推荐使用graphviz包绘制树的结构"
   ]
  },
  {
   "cell_type": "markdown",
   "metadata": {},
   "source": [
    "you can refer a handwritten picture, pleas upload the picture in /fig/xxx.png\n",
    "answer：\n",
    "![before](./fig/bst_before_deletion.png) \n",
    "![after](./fig/bst_after_deletion.png)"
   ]
  },
  {
   "cell_type": "code",
   "outputs": [
    {
     "data": {
      "text/plain": "('fig/bst_before_deletion.png', 'fig/bst_after_deletion.png')"
     },
     "execution_count": 6,
     "metadata": {},
     "output_type": "execute_result"
    }
   ],
   "source": [
    "import graphviz\n",
    "\n",
    "# 构建二叉搜索树的辅助类\n",
    "class TreeNode:\n",
    "    def __init__(self, key):\n",
    "        self.val = key\n",
    "        self.left = None\n",
    "        self.right = None\n",
    "\n",
    "def insert(root, key):\n",
    "    if root is None:\n",
    "        return TreeNode(key)\n",
    "    if key < root.val:\n",
    "        root.left = insert(root.left, key)\n",
    "    else:\n",
    "        root.right = insert(root.right, key)\n",
    "    return root\n",
    "\n",
    "def delete_node(root, key):\n",
    "    if not root:\n",
    "        return None\n",
    "    if key < root.val:\n",
    "        root.left = delete_node(root.left, key)\n",
    "    elif key > root.val:\n",
    "        root.right = delete_node(root.right, key)\n",
    "    else:\n",
    "        if not root.left:\n",
    "            return root.right\n",
    "        if not root.right:\n",
    "            return root.left\n",
    "        # 找右子树中的最小值替代当前节点\n",
    "        min_larger_node = root.right\n",
    "        while min_larger_node.left:\n",
    "            min_larger_node = min_larger_node.left\n",
    "        root.val = min_larger_node.val\n",
    "        root.right = delete_node(root.right, min_larger_node.val)\n",
    "    return root\n",
    "\n",
    "# 可视化树的辅助函数\n",
    "def visualize_bst(root, name=\"BST\"):\n",
    "    dot = graphviz.Digraph(name)\n",
    "    def add_nodes_edges(node):\n",
    "        if node:\n",
    "            dot.node(str(node.val))\n",
    "            if node.left:\n",
    "                dot.edge(str(node.val), str(node.left.val))\n",
    "                add_nodes_edges(node.left)\n",
    "            if node.right:\n",
    "                dot.edge(str(node.val), str(node.right.val))\n",
    "                add_nodes_edges(node.right)\n",
    "    add_nodes_edges(root)\n",
    "    return dot\n",
    "\n",
    "# 输入数据\n",
    "values = [48, 33, 49, 47, 42, 46, 32]\n",
    "\n",
    "# 构建初始BST\n",
    "root1 = None\n",
    "for val in values:\n",
    "    root1 = insert(root1, val)\n",
    "\n",
    "# 删除33后的BST\n",
    "root2 = None\n",
    "for val in values:\n",
    "    root2 = insert(root2, val)\n",
    "root2 = delete_node(root2, 33)\n",
    "\n",
    "# 可视化两棵树\n",
    "dot1 = visualize_bst(root1, \"BST_before_deletion\")\n",
    "dot2 = visualize_bst(root2, \"BST_after_deletion\")\n",
    "dot1.render('fig/bst_before_deletion', format='png', cleanup=True)\n",
    "dot2.render('fig/bst_after_deletion', format='png', cleanup=True)\n",
    "\n",
    "'fig/bst_before_deletion.png', 'fig/bst_after_deletion.png'\n"
   ],
   "metadata": {
    "collapsed": false,
    "ExecuteTime": {
     "end_time": "2025-05-13T17:11:05.065060Z",
     "start_time": "2025-05-13T17:11:04.093978Z"
    }
   },
   "execution_count": 6
  },
  {
   "cell_type": "markdown",
   "metadata": {},
   "source": [
    "## 问题 3 \n",
    "\n",
    "> 下面是九门课程的开始和结束时间:\n",
    ">\n",
    "> [(9:00,12:30), (11:00,14:00), (13:00, 14:30), (9:00,10:30),(13:00, 14:30),(14:00,16:30), (15:00,16:30), (15:00,16:30), (9:00,10:30)]\n",
    ">\n",
    "> 请使用贪婪算法为这九门课分配教室，要求在同一天内安排这些课，并且每个教室同一时间只能安排一门课。\n",
    "\n",
    "**请问最少需要几间教室，罗列出每个教室安排的课程**"
   ]
  },
  {
   "cell_type": "markdown",
   "metadata": {},
   "source": [
    "idea:\n",
    "先按开始时间排序：\n",
    "[(9:00,10:30), (9:00,10:30), (9:00,12:30), (11:00,14:00), (13:00, 14:30), (13:00, 14:30), (14:00,16:30), (15:00,16:30), (15:00,16:30)]\n",
    "使用贪婪算法，九点的课有三门，所以要教室ABC，11点的可给空闲的教室A，13点的两节课给空闲教室BC，如果可以无缝衔接，则14点的课给教室A，15点的两节课给空闲教室BC\n",
    "最少需要3间教室\n",
    "教室A：(9:00,10:30), (11:00, 14:00), (14:00,16:30)\n",
    "教室B：(9:00,10:30), (13:00, 14:30), (15:00,16:30)\n",
    "教室C：(9:00,12:30), (13:00, 14:30), (15:00,16:30)"
   ]
  },
  {
   "cell_type": "code",
   "execution_count": null,
   "metadata": {
    "vscode": {
     "languageId": "plaintext"
    }
   },
   "outputs": [],
   "source": [
    "# code:\n",
    "# 没说用Python编程解决，故选择略过"
   ]
  },
  {
   "cell_type": "markdown",
   "metadata": {},
   "source": [
    "## 问题 4 \n",
    "\n",
    "> 爬楼梯问题：假设爬楼梯时你每次只能爬一阶或者爬两阶，问爬上n阶的楼梯，你一共有多少种方法\n",
    "\n",
    "请设计算法完成该问题，分析算法设计思路，计算时间复杂度，并基于python编程实现"
   ]
  },
  {
   "cell_type": "markdown",
   "metadata": {},
   "source": [
    "idea：\n",
    "课上讲过，用动态规划，假设f(n)是爬到第n阶可以有的方法数，可以得到f(n)=f(n−1)+f(n−2)\n",
    "f(0)=0,f(1)=1;\n",
    "\n",
    "有一层for循环，所以是O(n)"
   ]
  },
  {
   "cell_type": "code",
   "execution_count": 2,
   "metadata": {
    "ExecuteTime": {
     "end_time": "2025-05-14T07:49:15.046302Z",
     "start_time": "2025-05-14T07:49:15.040841Z"
    }
   },
   "outputs": [
    {
     "name": "stdout",
     "output_type": "stream",
     "text": [
      "2\n",
      "3\n",
      "8\n",
      "1346269\n"
     ]
    }
   ],
   "source": [
    "# add your code here\n",
    "def climb_stairs(n):\n",
    "    if n <= 1:\n",
    "        return 1\n",
    "    a, b = 1, 1  # f(0), f(1)\n",
    "    for _i in range(2, n + 1):\n",
    "        a, b = b, a + b \n",
    "    return b\n",
    "\n",
    "print(climb_stairs(2)) \n",
    "print(climb_stairs(3)) \n",
    "print(climb_stairs(5)) \n",
    "print(climb_stairs(30)) \n",
    "\n",
    "# your algorithm time complexity is: O(n)"
   ]
  },
  {
   "cell_type": "markdown",
   "metadata": {},
   "source": [
    "## 问题 5 \n",
    "\n",
    "> 0-1背包问题：现在有4块大理石，每个大理石对应的重量和价值使用一个元组表示, 即（重量，价值），4块大理石的重量和价值为：[(5,10), (4,40), (6,30), (3, 50)], 假设你有一辆最大承重为9的小推车，请问使用这个小推车装大理石的最大价值为多少\n",
    "\n",
    "请设计一个算法解决该问题，分析算法设计思路，计算时间复杂度，并基于python编程实现"
   ]
  },
  {
   "cell_type": "markdown",
   "metadata": {},
   "source": [
    "idea：\n",
    "0-1背包，用动态规划，用dp[i][w]表示前i个物品，在最大容量为w的背包中能达到的最大价值\n",
    "状态转移方程：如果不选第i个物品，就是dp[i-1][w]；如果价值w大于wi，就比较选与不选，选其中更大的\n",
    "\n",
    "若有n个物品，最大承重为c，两层for循环，则时间复杂度为O(cn)"
   ]
  },
  {
   "cell_type": "code",
   "execution_count": 3,
   "metadata": {
    "ExecuteTime": {
     "end_time": "2025-05-14T07:54:38.693674Z",
     "start_time": "2025-05-14T07:54:38.688453Z"
    }
   },
   "outputs": [
    {
     "name": "stdout",
     "output_type": "stream",
     "text": [
      "90\n"
     ]
    }
   ],
   "source": [
    "# add your code here\n",
    "def knapsack(marbles, capacity):\n",
    "    dp = [0] * (capacity + 1)\n",
    "    for weight, value in marbles:\n",
    "        for w in range(capacity, weight - 1, -1):\n",
    "            dp[w] = max(dp[w], dp[w - weight] + value)\n",
    "    return dp[capacity]\n",
    "\n",
    "\n",
    "marbles = [(5, 10), (4, 40), (6, 30), (3, 50)]\n",
    "capacity = 9\n",
    "print(knapsack(marbles, capacity)) \n",
    "\n",
    "# your algorithm time complexity is: O(cn)"
   ]
  },
  {
   "cell_type": "markdown",
   "metadata": {},
   "source": [
    "## 问题 6 \n",
    "给定 `n` 个非负整数表示每个宽度为 `1` 的柱子的高度图，计算按此排列的柱子，下雨之后能接多少雨水。\n",
    "\n",
    "<div style=\"text-align:center;width:800px;\"> <img alt=\"\" src=\"./fig/hw3q6.png\"> </div>\n",
    "\n",
    "请分析算法设计思路，计算时间复杂度，并基于python编程实现"
   ]
  },
  {
   "cell_type": "markdown",
   "metadata": {},
   "source": [
    "idea：\n",
    "接雨水问题，可以构建预处理数组构建l_max 数组[i]表示位置i左边的最大高度（包括 i）,r_max数组[i]表示位置i右边的最大高度，也包括i\n",
    "遍历每个位置i，计算当前接水量：min(l_max[i],r_max[i])-height[i]\n",
    "\n",
    "三个单for循环，都是O(n)，最终时间复杂度还是O(n)"
   ]
  },
  {
   "cell_type": "code",
   "execution_count": 4,
   "metadata": {
    "ExecuteTime": {
     "end_time": "2025-05-14T07:58:50.947393Z",
     "start_time": "2025-05-14T07:58:50.940354Z"
    }
   },
   "outputs": [
    {
     "name": "stdout",
     "output_type": "stream",
     "text": [
      "6\n",
      "9\n"
     ]
    }
   ],
   "source": [
    "# add your code here\n",
    "def trap(height):\n",
    "    if not height:\n",
    "        return 0\n",
    "    \n",
    "    n = len(height)\n",
    "    l_max = [0] * n\n",
    "    r_max = [0] * n\n",
    "    \n",
    "    # l_max\n",
    "    l_max[0] = height[0]\n",
    "    for i in range(1, n):\n",
    "        l_max[i] = max(l_max[i-1], height[i])\n",
    "    \n",
    "    # r_max\n",
    "    r_max[n-1] = height[n-1]\n",
    "    for i in range(n-2, -1, -1):\n",
    "        r_max[i] = max(r_max[i+1], height[i])\n",
    "    \n",
    "    # 计算总水量\n",
    "    total_water = 0\n",
    "    for i in range(n):\n",
    "        total_water += min(l_max[i], r_max[i]) - height[i]\n",
    "    \n",
    "    return total_water\n",
    "\n",
    "print(trap([0,1,0,2,1,0,1,3,2,1,2,1]))\n",
    "print(trap([4,2,0,3,2,5]))       \n",
    "\n",
    "# your algorithm time complexity is: O(n)"
   ]
  },
  {
   "cell_type": "markdown",
   "metadata": {},
   "source": [
    "## 问题 7 \n",
    "\n",
    "**股票投资组合优化**： 假设你是一位投资者，想要在不同的股票中分配你的资金，以最大化你的投资回报。每只股票都有不同的预期收益率和风险。你的目标是选择一些股票，使得总投资金额不超过你的预算，并且预期收益最大化。\n",
    "\n",
    "在这个情况下，你可以将每只股票视为一个“物品”，其重量为投资金额，价值为预期收益率。然后，你可以使用分级背包问题的方法来选择部分股票，以便在预算内获得最大的预期收益。\n",
    "\n",
    "以下是一个简化的例子：\n",
    "\n",
    "假设你有以下三只股票可供选择：\n",
    "\n",
    "1. 股票 A：投资金额 5000 美元，预期收益率 10%\n",
    "2. 股票 B：投资金额 3000 美元，预期收益率 8%\n",
    "3. 股票 C：投资金额 2000 美元，预期收益率 12%\n",
    "\n",
    "请设计算法找到最优投资方案，分析算法设计思路，计算时间复杂度，并基于python编程实现"
   ]
  },
  {
   "cell_type": "markdown",
   "metadata": {},
   "source": [
    "idea：\n",
    "与0-1背包类似，不过用动态规划前，得先把实际收益算出来，\n",
    "用dp[i][w]表示前i个股票中，预算不超过w时的最大收益，当w比第i个股票花费高时，比较选与不选，取最大\n",
    "\n",
    "假设股票数量为n，预算为W，那么时间复杂度则为O(nW)"
   ]
  },
  {
   "cell_type": "code",
   "execution_count": 5,
   "metadata": {
    "ExecuteTime": {
     "end_time": "2025-05-14T08:04:03.181713Z",
     "start_time": "2025-05-14T08:04:03.171999Z"
    }
   },
   "outputs": [
    {
     "name": "stdout",
     "output_type": "stream",
     "text": [
      "最大预期收益金额为： 740.0\n"
     ]
    }
   ],
   "source": [
    "# add your code here\n",
    "def max_expected_return(stocks, budget):\n",
    "    n = len(stocks)\n",
    "    # 算出实际的收益\n",
    "    values = [cost * percent / 100 for cost, percent in stocks]\n",
    "    costs = [cost for cost, _ in stocks]\n",
    "\n",
    "    # 初始化\n",
    "    dp = [0] * (budget + 1)\n",
    "\n",
    "    for i in range(n):\n",
    "        for w in range(budget, costs[i] - 1, -1):\n",
    "            dp[w] = max(dp[w], dp[w - costs[i]] + values[i])\n",
    "    \n",
    "    return round(dp[budget], 2)\n",
    "\n",
    "stocks = [(5000, 10), (3000, 8), (2000, 12)]\n",
    "budget = 7000\n",
    "print(\"最大预期收益金额为：\", max_expected_return(stocks, budget)) \n",
    "\n",
    "# your algorithm time complexity is: O(nW)"
   ]
  },
  {
   "cell_type": "markdown",
   "metadata": {},
   "source": [
    "## 问题 8\n",
    "\n",
    "给你二叉搜索树的根节点 root ，该树中的恰好两个节点的值被错误地交换。请在不改变其结构的情况下，恢复这棵树 。设计算法解决该问题，分析算法设计思路，计算时间复杂度，并基于python编程实现\n",
    "\n",
    "e.g.:\n",
    "---\n",
    "1.\n",
    "\n",
    "<div style=\"text-align:center;width:200px;\"> <img alt=\"\" src=\"./fig/hw3q9-1.jpg\"> </div>\n",
    "输入：root = [1,3,null,null,2]， 输出为：[3,1,null,null,2]， \n",
    "\n",
    "解释：3 不能是 1 的左孩子，因为 3 > 1 。交换 1 和 3 使二叉搜索树有效。\n",
    "\n",
    "2.\n",
    "\n",
    " <div style=\"text-align:center;width:200px;\"> <img alt=\"\" src=\"./fig/hw3q9-1.jpg\"> </div>\n",
    "输入： root=[3,1,4,null,null,2]， 输出为：[2,1,4,null,null,3]\n",
    "\n",
    "解释：2 不能在 3 的右子树中，因为 2 < 3 。交换 2 和 3 使二叉搜索树有效。"
   ]
  },
  {
   "cell_type": "markdown",
   "metadata": {},
   "source": [
    "idea：\n",
    "BST，若有两个节点值被错误交换，中序遍历该树会出现逆序对，可能有1-2个，错误的是第一对里的大的，第二对里的小的\n",
    "那我们就可以用中序遍历该树，定位错误的节点，交换即可\n",
    "\n",
    "因为用中序遍历了一遍，所以是O(n)"
   ]
  },
  {
   "cell_type": "code",
   "execution_count": 6,
   "metadata": {
    "ExecuteTime": {
     "end_time": "2025-05-14T08:09:48.800799Z",
     "start_time": "2025-05-14T08:09:48.791375Z"
    }
   },
   "outputs": [
    {
     "name": "stdout",
     "output_type": "stream",
     "text": [
      "修复前: [3, 2, 1]\n",
      "修复后: [1, 2, 3]\n"
     ]
    }
   ],
   "source": [
    "# add your code here\n",
    "class TreeNode:\n",
    "    def __init__(self, val=0, left=None, right=None):\n",
    "        self.val = val\n",
    "        self.left = left\n",
    "        self.right = right\n",
    "\n",
    "def recoverTree(root):\n",
    "    first = second = prev = None\n",
    "\n",
    "    def inorder(node):\n",
    "        nonlocal first, second, prev\n",
    "        if not node:\n",
    "            return\n",
    "        inorder(node.left)\n",
    "        if prev and prev.val > node.val:\n",
    "            if not first:\n",
    "                first = prev  # 第一个逆序对\n",
    "            second = node   # 第二个逆序对可能是当前的 node\n",
    "        prev = node\n",
    "        inorder(node.right)\n",
    "\n",
    "    inorder(root)\n",
    "    # 交换错误节点的值\n",
    "    if first and second:\n",
    "        first.val, second.val = second.val, first.val\n",
    "\n",
    "def build_tree(data):\n",
    "    # 用队列构建二叉树\n",
    "    if not data:\n",
    "        return None\n",
    "    root = TreeNode(data[0])\n",
    "    queue = [root]\n",
    "    i = 1\n",
    "    while queue and i < len(data):\n",
    "        node = queue.pop(0)\n",
    "        if i < len(data) and data[i] is not None:\n",
    "            node.left = TreeNode(data[i])\n",
    "            queue.append(node.left)\n",
    "        i += 1\n",
    "        if i < len(data) and data[i] is not None:\n",
    "            node.right = TreeNode(data[i])\n",
    "            queue.append(node.right)\n",
    "        i += 1\n",
    "    return root\n",
    "\n",
    "def inorder_traversal(root):\n",
    "    if not root:\n",
    "        return []\n",
    "    return inorder_traversal(root.left) + [root.val] + inorder_traversal(root.right)\n",
    "\n",
    "data = [1, 3, None, None, 2]\n",
    "tree = build_tree(data)\n",
    "print(\"修复前:\", inorder_traversal(tree))  # 有问题的\n",
    "recoverTree(tree)\n",
    "print(\"修复后:\", inorder_traversal(tree)) \n",
    "\n",
    "# your algorithm time complexity is:"
   ]
  },
  {
   "cell_type": "markdown",
   "metadata": {},
   "source": [
    "## 问题 9  \n",
    "\n",
    "给你一个二叉树的根节点 root ，树中每个节点都存放有一个 0 到 9 之间的数字。每条从根节点到叶节点的路径都代表一个数字：\n",
    "\n",
    "> 例如，从根节点到叶节点的路径 1 -> 2 -> 3 表示数字 123 。\n",
    "\n",
    "设计一个算法计算从根节点到叶节点生成的所有数字之和 ，分析算法设计思路，计算时间复杂度，并基于python编程实现\n",
    "\n",
    "叶节点:是指没有子节点的节点。\n",
    "\n",
    "e.g.:\n",
    "---\n",
    "1.\n",
    "\n",
    " <div style=\"text-align:center;width:200px;\"> <img alt=\"figure\" src=\"./fig/hw3q10-1.jpg\"> </div>\n",
    "\n",
    " 输入：root = [1,2,3], 输出：25\n",
    "\n",
    "解释：从根到叶子节点路径 1->2 代表数字 12，1->3 代表数字 13，因此和为 12 + 13 = 25 。\n",
    "\n",
    "2.\n",
    "\n",
    " <div style=\"text-align:center;width:200px;\"> <img alt=\"figure\" src=\"./fig/hw3q10-2.jpg\"> </div>\n",
    "\n",
    " 输入：root = [4,9,0,5,1], 输出：1026\n",
    "\n",
    "解释：从根到叶子节点路径 4->9->5 代表数字 495，4->9->1 代表数字 491，4->0 代表数字 40。因此和为 495 + 491 + 40 = 1026 。"
   ]
  },
  {
   "cell_type": "markdown",
   "metadata": {},
   "source": [
    "idea：\n",
    "从根到叶节点，就是树的路径，要求路径总和；可以用深度优先搜索来遍历二叉树，每走一层就把当前节点的值加到路径的数字末尾，\n",
    "当走到叶节点时，把当前路径组成的数字加到总和中即可，然后递归回到上一层，继续遍历\n",
    "\n",
    "由于会访问每个节点，所以是O(n)"
   ]
  },
  {
   "cell_type": "code",
   "execution_count": 7,
   "metadata": {
    "ExecuteTime": {
     "end_time": "2025-05-14T08:15:08.566358Z",
     "start_time": "2025-05-14T08:15:08.557339Z"
    }
   },
   "outputs": [
    {
     "name": "stdout",
     "output_type": "stream",
     "text": [
      "总和: 25\n",
      "总和: 1026\n"
     ]
    }
   ],
   "source": [
    "# add your code here\n",
    "class TreeNode:\n",
    "    def __init__(self, val=0, left=None, right=None):\n",
    "        self.val = val\n",
    "        self.left = left\n",
    "        self.right = right\n",
    "\n",
    "def sumNumbers(root):\n",
    "    def dfs(node, current_num):\n",
    "        if not node:\n",
    "            return 0\n",
    "        current_num = current_num * 10 + node.val\n",
    "        # 叶节点\n",
    "        if not node.left and not node.right:\n",
    "            return current_num\n",
    "        # 继续递归\n",
    "        return dfs(node.left, current_num) + dfs(node.right, current_num)\n",
    "\n",
    "    return dfs(root, 0)\n",
    "\n",
    "def build_tree(data):\n",
    "    if not data:\n",
    "        return None\n",
    "    root = TreeNode(data[0])\n",
    "    queue = [root]\n",
    "    i = 1\n",
    "    while queue and i < len(data):\n",
    "        node = queue.pop(0)\n",
    "        if i < len(data) and data[i] is not None:\n",
    "            node.left = TreeNode(data[i])\n",
    "            queue.append(node.left)\n",
    "        i += 1\n",
    "        if i < len(data) and data[i] is not None:\n",
    "            node.right = TreeNode(data[i])\n",
    "            queue.append(node.right)\n",
    "        i += 1\n",
    "    return root\n",
    "\n",
    "\n",
    "root1 = build_tree([1,2,3])\n",
    "print(\"总和:\", sumNumbers(root1))\n",
    "root2 = build_tree([4,9,0,5,1])\n",
    "print(\"总和:\", sumNumbers(root2))\n",
    "\n",
    "# your algorithm time complexity is: O(n)"
   ]
  },
  {
   "cell_type": "markdown",
   "metadata": {},
   "source": [
    "## 问题 10  \n",
    "\n",
    "给你一个二叉树的根节点 root ， 检查它是否轴对称。\n",
    "\n",
    "1. 分析算法设计思路，计算时间复杂度，并基于python编程实现\n",
    "2. \\* 设计使用递归和迭代两种方法解决这个问题，计算时间复杂度，并基于python编程实现\n",
    "\n",
    "e.g.:\n",
    "---\n",
    "1.\n",
    "\n",
    " <div style=\"text-align:center;width:200px;\"> <img alt=\"figure\" src=\"./fig/hw3q11-1.png\"> </div>\n",
    "\n",
    " 输入：root = [1,2,2,3,4,4,3]， 输出：true\n",
    "\n",
    "解释：二叉树 [1,2,2,3,4,4,3] 对称。\n",
    "\n",
    "2.\n",
    "\n",
    " <div style=\"text-align:center;width:200px;\"> <img alt=\"figure\" src=\"./fig/hw3q11-2.png\"> </div>\n",
    "\n",
    " 输入：root = [1,2,2,null,3,null,3]， 输出：false"
   ]
  },
  {
   "cell_type": "markdown",
   "metadata": {},
   "source": [
    "idea:\n",
    "如果树是对称的，那他的左子树和右子树应该是镜像对称的，也就是说两个子树要么为空，要么值相等，并且其左子与另外一个的右子都要对应相等；\n",
    "用队列来存要比较的节点对，先比较是否相等或空，否则存入两个左右子对，进行迭代\n",
    "递归迭代思路参考了大模型，\n",
    "\n",
    "还是遍历的每个节点，所以时间复杂度为O(n)"
   ]
  },
  {
   "cell_type": "code",
   "execution_count": 9,
   "metadata": {
    "ExecuteTime": {
     "end_time": "2025-05-14T08:25:20.124212Z",
     "start_time": "2025-05-14T08:25:20.116070Z"
    }
   },
   "outputs": [
    {
     "name": "stdout",
     "output_type": "stream",
     "text": [
      "该树是否轴对称： True\n",
      "该树是否轴对称： False\n"
     ]
    }
   ],
   "source": [
    "# add your code here\n",
    "class TreeNode:\n",
    "    def __init__(self, val=0, left=None, right=None):\n",
    "        self.val = val\n",
    "        self.left = left\n",
    "        self.right = right\n",
    "\n",
    "def isSymmetric_recursive(root):\n",
    "    def isMirror(t1, t2):\n",
    "        if not t1 and not t2:\n",
    "            return True\n",
    "        if not t1 or not t2:\n",
    "            return False\n",
    "        return (t1.val == t2.val) and \\\n",
    "               isMirror(t1.left, t2.right) and \\\n",
    "               isMirror(t1.right, t2.left)\n",
    "    \n",
    "    if not root:\n",
    "        return True\n",
    "    return isMirror(root.left, root.right)\n",
    "\n",
    "def build_tree(data):\n",
    "    if not data:\n",
    "        return None\n",
    "    nodes = [TreeNode(val) if val is not None else None for val in data]\n",
    "    kids = nodes[::-1]\n",
    "    root = kids.pop()\n",
    "    for node in nodes:\n",
    "        if node:\n",
    "            if kids: node.left = kids.pop()\n",
    "            if kids: node.right = kids.pop()\n",
    "    return root\n",
    "\n",
    "root1 = build_tree([1,2,2,3,4,4,3])\n",
    "print(\"该树是否轴对称：\", isSymmetric_recursive(root1)) \n",
    "\n",
    "root2 = build_tree([1,2,2,None,3,None,3])\n",
    "print(\"该树是否轴对称：\", isSymmetric_recursive(root2)) \n",
    "\n",
    "# your algorithm time complexity is: O(n)"
   ]
  },
  {
   "cell_type": "markdown",
   "metadata": {},
   "source": [
    "## 问题 11  \n",
    "\n",
    "给你一个由 '1'（陆地）和 '0'（水）组成的的二维网格，请你计算网格中岛屿的数量。岛屿总是被水包围，并且每座岛屿只能由水平方向和/或竖直方向上相邻的陆地连接形成。\n",
    "\n",
    "此外，你可以假设该网格的四条边均被水包围。\n",
    "\n",
    "分析算法设计思路，计算时间复杂度，并基于python编程实现\n",
    "\n",
    "e.g.:\n",
    "---\n",
    "1.\n",
    "输入：grid = [\n",
    "\n",
    "    [\"1\",\"1\",\"1\",\"1\",\"0\"],\n",
    "\n",
    "    [\"1\",\"1\",\"0\",\"1\",\"0\"], \n",
    "\n",
    "    [\"1\",\"1\",\"0\",\"0\",\"0\"], \n",
    "\n",
    "    [\"0\",\"0\",\"0\",\"0\",\"0\"]  \n",
    "\n",
    "]\n",
    "\n",
    "输出：1\n",
    "\n",
    "2.\n",
    "输入：grid = [\n",
    "\n",
    "    [\"1\",\"1\",\"0\",\"0\",\"0\"],\n",
    "\n",
    "    [\"1\",\"1\",\"0\",\"0\",\"0\"],\n",
    "\n",
    "    [\"0\",\"0\",\"1\",\"0\",\"0\"],\n",
    "\n",
    "    [\"0\",\"0\",\"0\",\"1\",\"1\"]\n",
    "\n",
    "]\n",
    "\n",
    "输出：3"
   ]
  },
  {
   "cell_type": "markdown",
   "metadata": {},
   "source": [
    "idea:\n",
    "与图的连通性有关，可以用深度优先搜索解决，我们要对每一个未访问过的1进行深度优先搜索，把其所属的整块岛屿全部覆盖，并统计岛屿数+1\n",
    "也就是要遍历整个网格，遇到1就递归的把和它相邻的1变成0，岛屿数量++，\n",
    "\n",
    "因为要遍历整个网格，假设规模为n*m，那么时间复杂度为O(nm)"
   ]
  },
  {
   "cell_type": "code",
   "execution_count": 11,
   "metadata": {
    "ExecuteTime": {
     "end_time": "2025-05-14T08:31:18.779282Z",
     "start_time": "2025-05-14T08:31:18.771161Z"
    }
   },
   "outputs": [
    {
     "name": "stdout",
     "output_type": "stream",
     "text": [
      "网格1有几座岛屿： 1\n",
      "网格2有几座岛屿： 3\n"
     ]
    }
   ],
   "source": [
    "# add your code here\n",
    "from copy import deepcopy\n",
    "def numIslands(grid):\n",
    "    if not grid:\n",
    "        return 0\n",
    "\n",
    "    rows, cols = len(grid), len(grid[0])\n",
    "    count = 0\n",
    "\n",
    "    def dfs(r, c):\n",
    "        if r < 0 or c < 0 or r >= rows or c >= cols or grid[r][c] != \"1\":\n",
    "            return\n",
    "        grid[r][c] = \"0\"  # 覆盖掉\n",
    "        dfs(r+1, c)\n",
    "        dfs(r-1, c)\n",
    "        dfs(r, c+1)\n",
    "        dfs(r, c-1)\n",
    "\n",
    "    for r in range(rows):\n",
    "        for c in range(cols):\n",
    "            if grid[r][c] == \"1\":\n",
    "                dfs(r, c)\n",
    "                count += 1\n",
    "\n",
    "    return count\n",
    "\n",
    "grid1 = [\n",
    "    [\"1\",\"1\",\"1\",\"1\",\"0\"],\n",
    "    [\"1\",\"1\",\"0\",\"1\",\"0\"],\n",
    "    [\"1\",\"1\",\"0\",\"0\",\"0\"],\n",
    "    [\"0\",\"0\",\"0\",\"0\",\"0\"]\n",
    "]\n",
    "grid2 = [\n",
    "    [\"1\",\"1\",\"0\",\"0\",\"0\"],\n",
    "    [\"1\",\"1\",\"0\",\"0\",\"0\"],\n",
    "    [\"0\",\"0\",\"1\",\"0\",\"0\"],\n",
    "    [\"0\",\"0\",\"0\",\"1\",\"1\"]\n",
    "]\n",
    "print(\"网格1有几座岛屿：\", numIslands(deepcopy(grid1))) \n",
    "print(\"网格2有几座岛屿：\", numIslands(deepcopy(grid2))) \n",
    "\n",
    "# your algorithm time complexity is:"
   ]
  },
  {
   "cell_type": "code",
   "outputs": [],
   "source": [],
   "metadata": {
    "collapsed": false
   }
  }
 ],
 "metadata": {
  "language_info": {
   "name": "python"
  },
  "kernelspec": {
   "name": "python3",
   "language": "python",
   "display_name": "Python 3 (ipykernel)"
  }
 },
 "nbformat": 4,
 "nbformat_minor": 2
}
