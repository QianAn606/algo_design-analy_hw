{
 "cells": [
  {
   "cell_type": "markdown",
   "metadata": {},
   "source": [
    "## algorithm design and anlysis-2025 spring  homework 2\n",
    "**Deadline**：2025.5.14\n",
    "\n",
    "**name**: An\n",
    "\n",
    "\n",
    "note：\n",
    "---\n",
    "1. 带有\\*的题目，申请免上课的同学，必须完成，其他同学选作；\n",
    "2. 请独立完成，如求助了他人或者大模型，请著明，并且不可省略算法分析部分；\n",
    "4. 如若作答有雷同，全部取消成绩；\n",
    "3. 需要书面作答的题目，可以通过引用图片的形式添加，但是注意上传项目时包含所引用的图片的源文件；\n",
    "4. $log_n$ 默认表示$log_2{n}$;"
   ]
  },
  {
   "cell_type": "markdown",
   "metadata": {},
   "source": [
    "## 问题 1  \n",
    "\n",
    "> 给定一个已排序的链表的头 `head` ， *删除所有重复的元素，使每个元素只出现一次* 。返回 *已排序的链表* 。链表的类如下所示：\n",
    "\n",
    "```python\n",
    "class NodeList:\n",
    "    def __init__(self, val=None, right=None):\n",
    "        self.val   = val\n",
    "        self.right = right\n",
    "```\n",
    "\n",
    "输入是一个数组，你首先需要将数组转化为链表，然后删除链表中的重复元素，再遍历链表元素，以一个数组的形式返回。请设计一个算法解决上述任务，分析算法设计思路，计算时间复杂度, 并基于python编程实现。\n",
    "\n",
    "e.g.  输入：head=[1, 1, 2, 3, 3]   输出：[1, 2, 3]\n",
    "\n",
    "![image-20240502110020439](./fig/hw2q1.png)\n",
    "\n"
   ]
  },
  {
   "cell_type": "markdown",
   "metadata": {},
   "source": [
    "idea：\n",
    "将数组转化为链表、遍历节点，若值与下一个节点值相同就跳过下一个；再遍历链表，存入数组\n",
    "\n",
    "遍历链表，删除重复元素是O(n)，构建链表和转数组也是O(n)，于是时间复杂度是O(n)"
   ]
  },
  {
   "cell_type": "code",
   "execution_count": 1,
   "metadata": {
    "ExecuteTime": {
     "end_time": "2025-05-13T15:17:05.345480Z",
     "start_time": "2025-05-13T15:17:05.331024Z"
    }
   },
   "outputs": [
    {
     "name": "stdout",
     "output_type": "stream",
     "text": [
      "[1, 2, 3]\n"
     ]
    }
   ],
   "source": [
    "# add your idea(code?) here\n",
    "class NodeList:\n",
    "    def __init__(self, val=None, right=None):\n",
    "        self.val = val\n",
    "        self.right = right\n",
    "\n",
    "# 数组 → 链表\n",
    "def array_to_linked_list(arr):\n",
    "    if not arr:\n",
    "        return None\n",
    "    head = NodeList(arr[0])\n",
    "    curr = head\n",
    "    for val in arr[1:]:\n",
    "        curr.right = NodeList(val)\n",
    "        curr = curr.right\n",
    "    return head\n",
    "\n",
    "# 链表 → 数组\n",
    "def linked_list_to_array(head):\n",
    "    result = []\n",
    "    while head:\n",
    "        result.append(head.val)\n",
    "        head = head.right\n",
    "    return result\n",
    "\n",
    "def remove_duplicates(head):\n",
    "    current = head\n",
    "    while current and current.right:\n",
    "        if current.val == current.right.val:\n",
    "            current.right = current.right.right\n",
    "        else:\n",
    "            current = current.right\n",
    "    return head\n",
    "\n",
    "def process_linked_list(arr):\n",
    "    head = array_to_linked_list(arr)\n",
    "    new_head = remove_duplicates(head)\n",
    "    return linked_list_to_array(new_head)\n",
    "\n",
    "arr = [1, 1, 2, 3, 3]\n",
    "print(process_linked_list(arr))\n",
    "# your algorithm time complexity is:\n",
    "# O(n)"
   ]
  },
  {
   "cell_type": "markdown",
   "metadata": {},
   "source": [
    "## 问题 2  \n",
    "\n",
    "> 下面是一个经典的算法问题：\n",
    ">\n",
    "> - 给定包含n个整数的一个整数数组 `nums` 和一个整数目标值 `target`，请你在该数组中找出 **和为目标值** *`target`* 的那 **两个** 整数，并返回它们的**数组下标**。假设每种输入只会对应一个答案。但是，数组中同一个元素在答案里不能重复出现。你可以按任意顺序返回答案。\n",
    ">\n",
    "> 由于要多次查找数组中元素的位置，为了提高查询效率可以使用哈希表来存储数组中的数据，在哈希表中查询一个元素的复杂度为O(1)。 已知python中的字典是使用哈希表实现的，即使用`dict[key]`查询对应的value时间复杂度为O(1), python提供了查询字典是否包含某个key的功能：`key in dict`，时间复杂度也是O(1)\n",
    "\n",
    "请根据上面信息，设计一个时间复杂度为O(n) 的算法，解决上述算法问题\n",
    "\n",
    "e.g.   \n",
    "\n",
    "输入：nums=[2,7,11,15], target=9， 输出：[0，1]\n",
    "\n",
    "输入：nums=[3,2,4], target=6, 输出：[1,2]\n",
    "\n",
    "输入：nums=[3,3], target=6,  输出：[0,1]\n"
   ]
  },
  {
   "cell_type": "markdown",
   "source": [
    "idea:\n",
    "首先初始化一个空字典s；\n",
    "遍历数组nums中的每个元素num，及其下标i，计算其配对值comp=target-num；如果comp已经在字典中，就找到了两个数；\n",
    "否则把当前数字加入字典：s[num]=i；\n",
    "若遍历结束仍未找到，则不存在答案。\n",
    "\n",
    "由于只遍历一遍数组，所以时间复杂度为O(n)"
   ],
   "metadata": {
    "collapsed": false
   }
  },
  {
   "cell_type": "code",
   "execution_count": null,
   "metadata": {},
   "outputs": [],
   "source": [
    "# add your idea here\n",
    "# your algorithm time complexity is: O(n)"
   ]
  },
  {
   "cell_type": "markdown",
   "metadata": {},
   "source": [
    "## 问题 3:   \n",
    "\n",
    "> 栈是一种常用的数据结构，编译器中通常使用栈来实现表达式求值。\n",
    ">\n",
    "> 以表达式 $3+5 \\times 8-6$​ 为例。编译器使用两个栈来完成运算，即一个栈保持操作数，另一个栈保存运算符。\n",
    ">\n",
    "> 1. 从左向右遍历表达式，遇到数字就压入操作数栈；\n",
    ">\n",
    "> 2. 遇到运算符，就与运算符栈的栈顶元素进行比较。如果比运算符栈顶元素的优先级高，就将当前运算符压入栈；如果比运算符栈顶元素的优先级低或者相同，从运算符栈中取栈顶运算符，从操作数栈的栈顶取 2 个操作数，然后进行计算，再把计算完的结果压入操作数栈，继续比较。\n",
    ">\n",
    "> 下图是 $3+5 \\times 8-6$  这个表达式的计算过程：\n",
    "\n",
    "![figure](./fig/hw2q3.png)\n",
    "\n",
    "根据上述原理，请设计一个算法完成表达式的运算，当输入为表达式字符串，返回对应的计算结果。分析算法设计思路，计算时间复杂度，并基于python编程实现\n",
    "\n",
    "**note：**\n",
    "\n",
    "1. 假设输入的表达式只会出现加（“+”），减 “-”， 乘“*”，除 “/” 四个运算符, 表达式中只会出现正整数\n",
    "2. python中` str.isdigit()`函数可以判断字符串str是否为数字，\n",
    "\n",
    "\n",
    "\n",
    "e.g. :\n",
    "---\n",
    "\n",
    "1. 输入：“$3+5 * 8 -6$”   输出：37\n",
    "\n",
    "2. 输入：“$34+13*9 + 44-12/3$”  输出：191"
   ]
  },
  {
   "cell_type": "markdown",
   "metadata": {},
   "source": [
    "idea：\n",
    "就也用两个栈，操作数栈，操作符栈，思路与题意一致，乘除大于加减，\n",
    "\n",
    "由于遍历了每个字符，且每个字符最多用两次，所以时间复杂度为O(n)\n",
    "\n",
    "具体实现参考了大模型；"
   ]
  },
  {
   "cell_type": "code",
   "execution_count": 3,
   "metadata": {
    "ExecuteTime": {
     "end_time": "2025-05-13T15:33:43.825320Z",
     "start_time": "2025-05-13T15:33:43.816734Z"
    }
   },
   "outputs": [
    {
     "name": "stdout",
     "output_type": "stream",
     "text": [
      "37\n",
      "191\n"
     ]
    }
   ],
   "source": [
    "# add your idea here\n",
    "def evaluate_expression(expression):\n",
    "    def precedence(op):\n",
    "        return {'+': 1, '-': 1, '*': 2, '/': 2}.get(op, 0)\n",
    "\n",
    "    def apply_op(a, b, op):\n",
    "        if op == '+': return a + b\n",
    "        if op == '-': return a - b\n",
    "        if op == '*': return a * b\n",
    "        if op == '/': return a // b\n",
    "\n",
    "    operands = []\n",
    "    operators = []\n",
    "    i = 0\n",
    "    n = len(expression)\n",
    "\n",
    "    while i < n:\n",
    "        char = expression[i]\n",
    "\n",
    "        if char == ' ':\n",
    "            i += 1\n",
    "            continue\n",
    "\n",
    "        if char.isdigit():\n",
    "            num = 0\n",
    "            while i < n and expression[i].isdigit():\n",
    "                num = num * 10 + int(expression[i])\n",
    "                i += 1\n",
    "            operands.append(num)\n",
    "        else:  # operator\n",
    "            while operators and precedence(operators[-1]) >= precedence(char):\n",
    "                op = operators.pop()\n",
    "                b = operands.pop()\n",
    "                a = operands.pop()\n",
    "                operands.append(apply_op(a, b, op))\n",
    "            operators.append(char)\n",
    "            i += 1\n",
    "\n",
    "    while operators:\n",
    "        op = operators.pop()\n",
    "        b = operands.pop()\n",
    "        a = operands.pop()\n",
    "        operands.append(apply_op(a, b, op))\n",
    "\n",
    "    return operands[0]\n",
    "\n",
    "print(evaluate_expression(\"3+5 * 8 -6\"))        \n",
    "print(evaluate_expression(\"34+13*9 + 44-12/3\"))  \n",
    "\n",
    "# your algorithm time complexity is: \n",
    "# "
   ]
  },
  {
   "cell_type": "markdown",
   "metadata": {},
   "source": [
    "## 问题 4:  \n",
    "\n",
    "> 星球碰撞问题：现有n个星球，在同一条直线上运行，如数组A所示，元素的绝对值表示星球的质量，负数表示星球自右向左运动，正数表示星球自左向右运动，当两个星球相撞的时候，质量小的会消失，大的保持不变，**质量相同的两个星球碰撞后自右向左运动的星球消失，自左向右的星球保持不变**，假设所有星球的速度大小相同。\n",
    ">\n",
    "> $ A=[23,-8, 9, -3, -7, 9, -23, 22] $\n",
    "\n",
    "请设计一个算法模拟星球的运行情况，输出最终的星球存续情况（输出一个数组），分析算法设计思路，计算时间复杂度，并基于python编程实现。\n",
    "\n",
    "e.g.\n",
    "---\n",
    "1.  输入： A=[-3,-6,2,8, 5,-8,9,-2,1]， 输出：[-3, -6, 2, 8, 9, 1]\n",
    "\n",
    "2. 输入：A=[23,-8, 9, -3, -7, 9, -23, 22], 输出：[23, 22]\n",
    "\n"
   ]
  },
  {
   "cell_type": "markdown",
   "source": [
    "idea:\n",
    "课上讲过，用栈来解决，从左向右遍历星球数组 A，每遇到一个星球，若为正，入栈，为负择检测是否有正，有就比较，按规则判断谁消失，\n",
    "直到没有碰撞或被摧毁，最终栈的值就是结果\n",
    "\n",
    "由于每个值最多只入栈一次，出栈一次，则时间复杂度为O(n)"
   ],
   "metadata": {
    "collapsed": false
   }
  },
  {
   "cell_type": "code",
   "outputs": [
    {
     "name": "stdout",
     "output_type": "stream",
     "text": [
      "[-3, -6, 2, 8, 9, 1]\n",
      "[23, 22]\n"
     ]
    }
   ],
   "source": [
    "def planet_collision(A):\n",
    "    stack = []\n",
    "\n",
    "    for planet in A:\n",
    "        while stack and planet < 0 < stack[-1]:\n",
    "            # 发生碰撞\n",
    "            if abs(planet) > abs(stack[-1]):\n",
    "                stack.pop()\n",
    "                continue\n",
    "            elif abs(planet) == abs(stack[-1]):\n",
    "                # 左向的被消灭，右向的保留\n",
    "                planet = None\n",
    "                break\n",
    "            else:\n",
    "                # 当前向左的星球被摧毁\n",
    "                planet = None\n",
    "                break\n",
    "        if planet is not None:\n",
    "            stack.append(planet)\n",
    "\n",
    "    return stack\n",
    "\n",
    "print(planet_collision([-3,-6,2,8,5,-8,9,-2,1]))     \n",
    "print(planet_collision([23,-8,9,-3,-7,9,-23,22]))    \n"
   ],
   "metadata": {
    "collapsed": false,
    "ExecuteTime": {
     "end_time": "2025-05-13T15:48:44.834894Z",
     "start_time": "2025-05-13T15:48:44.828829Z"
    }
   },
   "execution_count": 7
  },
  {
   "cell_type": "markdown",
   "metadata": {},
   "source": [
    "## 问题 5 \n",
    "\n",
    "> 给定一个无序数组nums=[9,-3,-10,0,9,7,33]，请建立一个二叉搜索树存储数组中的所有元素，之后删除二叉树中的元素“0”，再使用中序遍历输出二叉搜索树中的所有元素。\n",
    "\n",
    "使用python编程完成上述任务，并计算时间复杂度\n"
   ]
  },
  {
   "cell_type": "code",
   "execution_count": 8,
   "metadata": {
    "ExecuteTime": {
     "end_time": "2025-05-13T15:52:40.558915Z",
     "start_time": "2025-05-13T15:52:40.549233Z"
    }
   },
   "outputs": [
    {
     "name": "stdout",
     "output_type": "stream",
     "text": [
      "中序遍历结果： [-10, -3, 7, 9, 33]\n"
     ]
    }
   ],
   "source": [
    "# add your idea here\n",
    "# 曾经用Python实现过BST\n",
    "class TreeNode:\n",
    "    def __init__(self, val):\n",
    "        self.val = val\n",
    "        self.left = None\n",
    "        self.right = None\n",
    "\n",
    "def insert(root, val):\n",
    "    if not root:\n",
    "        return TreeNode(val)\n",
    "    if val < root.val:\n",
    "        root.left = insert(root.left, val)\n",
    "    elif val > root.val:\n",
    "        root.right = insert(root.right, val)\n",
    "    # 如果 val == root.val，不插入重复值\n",
    "    return root\n",
    "\n",
    "def delete_node(root, key):\n",
    "    if not root:\n",
    "        return None\n",
    "    if key < root.val:\n",
    "        root.left = delete_node(root.left, key)\n",
    "    elif key > root.val:\n",
    "        root.right = delete_node(root.right, key)\n",
    "    else:\n",
    "        # 找到待删除节点\n",
    "        if not root.left:\n",
    "            return root.right\n",
    "        elif not root.right:\n",
    "            return root.left\n",
    "        # 有两个子节点，找中序后继替代当前节点\n",
    "        temp = find_min(root.right)\n",
    "        root.val = temp.val\n",
    "        root.right = delete_node(root.right, temp.val)\n",
    "    return root\n",
    "\n",
    "def find_min(node):\n",
    "    while node.left:\n",
    "        node = node.left\n",
    "    return node\n",
    "\n",
    "def inorder_traversal(root):\n",
    "    if not root:\n",
    "        return []\n",
    "    return inorder_traversal(root.left) + [root.val] + inorder_traversal(root.right)\n",
    "\n",
    "def main():\n",
    "    nums = [9, -3, -10, 0, 9, 7, 33]\n",
    "    root = None\n",
    "    for num in nums:\n",
    "        root = insert(root, num)\n",
    "\n",
    "    # 删除值为0的节点\n",
    "    root = delete_node(root, 0)\n",
    "\n",
    "    # 中序遍历输出\n",
    "    result = inorder_traversal(root)\n",
    "    print(\"中序遍历结果：\", result)\n",
    "\n",
    "main()\n",
    "# your algorithm time complexity is:\n",
    "# 分为最好情况和最差情况，插入是O(nlogn)\\O(n^2),删除是O(logn)\\O(n),中序遍历则都是O(n)\n",
    "# 于是平均的时间复杂度为O(nlogn),最坏情况是O(n^2)"
   ]
  },
  {
   "cell_type": "markdown",
   "metadata": {},
   "source": [
    "## 问题 6  \n",
    "\n",
    "> 给定一个包含大写字母和小写字母的字符串 s ，返回 字符串包含的 **最长的回文子串的长度** 。请注意 区分大小写 。比如 \"Aa\" 不能当做一个回文字符串。\n",
    ">\n",
    "\n",
    "请设计一个算法解决上述问题，只需要输出最长回文子串的长度，分析算法设计思路，计算时间复杂度，并基于python编程实现\n",
    "\n",
    "e.g. 输入： s=\"adccaccd\"，  输出：7。 最长回文子串为：\"dccaccd\", 长度为7\n"
   ]
  },
  {
   "cell_type": "markdown",
   "metadata": {},
   "source": [
    "idea：\n",
    "可以遍历每一个字符作为回文中心，如果是奇数长度回文，以一个字符为中心扩展，如果是偶数，以两个字符为中心扩展\n",
    "然后从中心向两边扩展，比较字符是否相等，记录并更新最大长度。\n",
    "\n",
    "由于有两层循环（扩展和找中心），所以时间复杂度为O(n^2)"
   ]
  },
  {
   "cell_type": "code",
   "execution_count": 9,
   "metadata": {
    "ExecuteTime": {
     "end_time": "2025-05-13T16:08:35.360826Z",
     "start_time": "2025-05-13T16:08:35.353709Z"
    }
   },
   "outputs": [
    {
     "name": "stdout",
     "output_type": "stream",
     "text": [
      "7\n",
      "1\n",
      "3\n"
     ]
    }
   ],
   "source": [
    "# add your idea here\n",
    "def longest_palindrome_length(s: str) -> int:\n",
    "    def expand_center(left: int, right: int) -> int:\n",
    "        while left >= 0 and right < len(s) and s[left] == s[right]:\n",
    "            left -= 1\n",
    "            right += 1\n",
    "        return right - left - 1  # 回文长度\n",
    "\n",
    "    max_len = 0\n",
    "    for i in range(len(s)):\n",
    "        len1 = expand_center(i, i)       # 奇数回文\n",
    "        len2 = expand_center(i, i + 1)   # 偶数回文\n",
    "        max_len = max(max_len, len1, len2)\n",
    "\n",
    "    return max_len\n",
    "\n",
    "print(longest_palindrome_length(\"adccaccd\"))\n",
    "print(longest_palindrome_length(\"Aa\"))      \n",
    "print(longest_palindrome_length(\"abacdfgdcaba\"))  \n",
    "# your algorithm time complexity is:\n",
    "# O(n^2)"
   ]
  },
  {
   "cell_type": "markdown",
   "metadata": {},
   "source": [
    "## 问题 7 \n",
    "\n",
    "> 沿一条长河流分散着n座房子。你可以把这条河想象成一条轴，房子是由它们在这条轴上的坐标按顺序排列的。你的公司想在河边的特定地点设置手机基站，这样每户人家都在距离基站4公里的范围内。输入可以看作为一个升序数组，数组元素的取值为大于等于0的正整数，你需要输出最小基站的数目，基站的位置。\n",
    "\n",
    "1. 给出一个时间复杂度为$O(n$) 的算法，使所使用的基站数量最小化，分析算法设计思路，使用python编程实现\n",
    "2. 证明1.中算法产生了最优解决方案。\n",
    "\n",
    "e.g. \n",
    "\n",
    "输入： [1, 5, 12, 33, 34,35]  输出：基站数目为3， 基站位置为[1，12，33]（错了？）\n",
    "\n"
   ]
  },
  {
   "cell_type": "markdown",
   "metadata": {},
   "source": [
    "idea：\n",
    "贪心算法，从左到右扫描房子，每次选当前房子作为考虑起点，在该房子坐标+4的地方放个基站（尽可能向右放置，覆盖更多房子）。\n",
    "然后跳过所有被该基站覆盖的房子（即位于 [x, x+8] 内的房子）。重复直到所有房子都覆盖。\n",
    "\n",
    "证明：具备贪心选择性质（已最大化覆盖）和最优子结构性质（选一个基站，覆盖尽可能多的房子），得证"
   ]
  },
  {
   "cell_type": "code",
   "execution_count": 10,
   "metadata": {
    "ExecuteTime": {
     "end_time": "2025-05-13T16:24:50.678940Z",
     "start_time": "2025-05-13T16:24:50.672338Z"
    }
   },
   "outputs": [
    {
     "name": "stdout",
     "output_type": "stream",
     "text": [
      "基站数目为 3, 基站位置为 [5, 16, 37]\n"
     ]
    }
   ],
   "source": [
    "# add your idea here\n",
    "def place_base_stations(houses):\n",
    "    n = len(houses)\n",
    "    i = 0\n",
    "    stations = []\n",
    "\n",
    "    while i < n:\n",
    "        # step 1: 选择当前房子的最右可覆盖位置作为基站位置\n",
    "        location = houses[i] + 4\n",
    "        stations.append(location)\n",
    "\n",
    "        # step 2: 跳过所有被该基站覆盖的房子\n",
    "        while i < n and houses[i] <= location + 4:\n",
    "            i += 1\n",
    "\n",
    "    return len(stations), stations\n",
    "\n",
    "houses = [1, 5, 12, 33, 34, 35]\n",
    "count, positions = place_base_stations(houses)\n",
    "print(f\"基站数目为 {count}, 基站位置为 {positions}\")\n",
    "# 输出: 基站数目为 3, 基站位置为 [5, 16, 37]\n",
    "# your algorithm time complexity is:\n",
    "# O(n)"
   ]
  },
  {
   "cell_type": "markdown",
   "metadata": {},
   "source": [
    "## 问题 8  \n",
    "\n",
    "> 给定由n个正整数组成的一个集合$S = \\{a_1, a_2，···，a_n\\}$和一个正整数W，设计一个算法确定是否存在S的一个子集 $K \\subseteq S$, 使K中所有数之和为 $W$, 如果存在返回“True”，否则返回“False”\n",
    "\n",
    "请设计一个时间复杂度为$O(nW)$动态规划算法，解决上述问题，分析算法的设计思路，并且基于python编程实现（不需要输出子集）。\n",
    "\n",
    "e.g. \n",
    "\n",
    "输入：S = {1,4,7,3,5}， W = 11，输出：True。   因为K可以是{4,7}。\n",
    "\n"
   ]
  },
  {
   "cell_type": "markdown",
   "metadata": {},
   "source": [
    "idea：\n",
    "子集和问题，用动态规划，\n",
    "定义状态转移方程，dp[i][w] = dp[i-1][w] or dp[i-1][w - S[i-1]]\n",
    "其中，不选第i个数，因为若之前已能组成 w，则现在也能；\n",
    "选第 i 个数是，如果能组成 w - S[i-1]，再加上 S[i-1] 就能组成 w；\n",
    "初始化：dp[0][0] = True：空集和为0，其余 dp[0][w] = False（无数时无法凑任何正数）"
   ]
  },
  {
   "cell_type": "code",
   "execution_count": 11,
   "metadata": {
    "ExecuteTime": {
     "end_time": "2025-05-13T16:30:57.405447Z",
     "start_time": "2025-05-13T16:30:57.397845Z"
    }
   },
   "outputs": [
    {
     "name": "stdout",
     "output_type": "stream",
     "text": [
      "True\n"
     ]
    }
   ],
   "source": [
    "# add your idea here\n",
    "def subset_sum(S, W):\n",
    "    n = len(S)\n",
    "    # 行数为 n+1（表示前i个元素），列数为 W+1（表示目标和0~W）\n",
    "    dp = [[False] * (W + 1) for _ in range(n + 1)]\n",
    "\n",
    "    # sum为0时总是可以取空集\n",
    "    for i in range(n + 1):\n",
    "        dp[i][0] = True\n",
    "\n",
    "    for i in range(1, n + 1):\n",
    "        for w in range(1, W + 1):\n",
    "            if w >= S[i - 1]:\n",
    "                dp[i][w] = dp[i - 1][w] or dp[i - 1][w - S[i - 1]]\n",
    "            else:\n",
    "                dp[i][w] = dp[i - 1][w]\n",
    "\n",
    "    return dp[n][W]\n",
    "\n",
    "S = [1, 4, 7, 3, 5]\n",
    "W = 11\n",
    "print(subset_sum(S, W)) \n",
    "\n",
    "# your algorithm time complexity is: O(nW)"
   ]
  },
  {
   "cell_type": "markdown",
   "metadata": {},
   "source": [
    "\n",
    "\n",
    "## 问题 9 \n",
    "\n",
    "> 给定一个n个物品的集合。物体的重量为$w_1, w_2，…、w_n$，物品的价值分别是$v_1、v_2、…v_n$。给你**两个**重量为 $c$ 的背包。如果你带了一个东西，它可以放在一个背包里，也可以放在另一个背包里，但不能同时放在两个背包里。所有权重和价值都是正整数。\n",
    "\n",
    "1. 设计一个时间复杂度为 $O(nc^2)$ 的动态规划算法，确定可以放入两个背包的物体的最大价值。分析算法设计思路，并基于python编程实现\n",
    "2. \\* 修改1中的算法，输出每个背包的内容（物品对应下标）。\n",
    "\n",
    "e.g.: \n",
    "\n",
    "输入 V=[1,3,2,5,8,7], W=[1,3,2,5,8,7], c=7, 输出：最大价值=14，背包装的物品为：[6] [4，3] （同一个背包中物品装入顺序对结果无影响）  \n"
   ]
  },
  {
   "cell_type": "markdown",
   "metadata": {},
   "source": [
    "idea：\n",
    "0-1背包的两个背包问题，动态规划，\n",
    "设计一个三维dp，dp[i][j][k] 表示前i个物品，背包1容量为j，背包2容量为k时的最大价值\n",
    "对于每个物品 i：\n",
    "不选它时，dp[i][j][k] = dp[i-1][j][k]\n",
    "放入背包1（如果能装下）时，dp[i][j][k] = max(dp[i][j][k], dp[i-1][j-w[i]][k] + v[i])\n",
    "放入背包2（如果能装下）时，dp[i][j][k] = max(dp[i][j][k], dp[i-1][j][k-w[i]] + v[i])\n",
    "\n",
    "有n个物品，每个物品最多处理c^2次，于是时间复杂度为O(nc^2)"
   ]
  },
  {
   "cell_type": "code",
   "execution_count": 13,
   "metadata": {
    "ExecuteTime": {
     "end_time": "2025-05-13T16:38:37.866345Z",
     "start_time": "2025-05-13T16:38:37.854970Z"
    }
   },
   "outputs": [
    {
     "name": "stdout",
     "output_type": "stream",
     "text": [
      "最大价值 = 14\n",
      "背包1装入物品下标（从0开始） = [5]\n",
      "背包2装入物品下标（从0开始） = [2, 3]\n"
     ]
    }
   ],
   "source": [
    "# add your idea here\n",
    "def double_knapsack_with_items(V, W, c):\n",
    "    n = len(V)\n",
    "    dp = [[[0] * (c + 1) for _ in range(c + 1)] for _ in range(n + 1)]\n",
    "    choice = [[[None] * (c + 1) for _ in range(c + 1)] for _ in range(n + 1)]  # 记录\n",
    "\n",
    "    for i in range(1, n + 1):\n",
    "        vi = V[i - 1]\n",
    "        wi = W[i - 1]\n",
    "        for j in range(c + 1):\n",
    "            for k in range(c + 1):\n",
    "                # 不选\n",
    "                dp[i][j][k] = dp[i - 1][j][k]\n",
    "                choice[i][j][k] = ('none', j, k)\n",
    "                # 放1\n",
    "                if j >= wi and dp[i - 1][j - wi][k] + vi > dp[i][j][k]:\n",
    "                    dp[i][j][k] = dp[i - 1][j - wi][k] + vi\n",
    "                    choice[i][j][k] = ('b1', j - wi, k)\n",
    "                # 放2\n",
    "                if k >= wi and dp[i - 1][j][k - wi] + vi > dp[i][j][k]:\n",
    "                    dp[i][j][k] = dp[i - 1][j][k - wi] + vi\n",
    "                    choice[i][j][k] = ('b2', j, k - wi)\n",
    "\n",
    "    # 回溯\n",
    "    b1_items = []\n",
    "    b2_items = []\n",
    "    i, j, k = n, c, c\n",
    "    while i > 0:\n",
    "        act, nj, nk = choice[i][j][k]\n",
    "        if act == 'b1':\n",
    "            b1_items.append(i - 1)\n",
    "        elif act == 'b2':\n",
    "            b2_items.append(i - 1)\n",
    "        j, k = nj, nk\n",
    "        i -= 1\n",
    "\n",
    "    return dp[n][c][c], sorted(b1_items), sorted(b2_items)\n",
    "\n",
    "V = [1, 3, 2, 5, 8, 7]\n",
    "W = [1, 3, 2, 5, 8, 7]\n",
    "c = 7\n",
    "\n",
    "max_value, b1, b2 = double_knapsack_with_items(V, W, c)\n",
    "print(\"最大价值 =\", max_value)\n",
    "print(\"背包1装入物品下标（从0开始） =\", b1)\n",
    "print(\"背包2装入物品下标（从0开始） =\", b2)\n",
    "\n",
    "\n",
    "# your algorithm time complexity is: O(nc^2)"
   ]
  },
  {
   "cell_type": "markdown",
   "metadata": {},
   "source": [
    "## 问题 10 \n",
    "\n",
    "> 给定两个字符串 $x[1..n]$ 和 $y[1..m]$，我们想通过以下操作将 $x$ 变换为 $y$ :\n",
    ">\n",
    "> **插入**：在 $x$ 中插入一个字符(在任何位置)；**删除**：从 $x$ 中删除一个字符(在任何位置)； **替换**：用另一个字符替换 $x$ 中的一个字符。\n",
    ">\n",
    "> 例如: $x = abcd$, $y = bcfe$，\n",
    ">\n",
    "> - 将 $x$ 转换为 $y$ 的一种可能方法是：1. 删除 $x$ 开头的 $a$, $x$变成 $bcd$； 2. 将 $x$ 中的字符 $d$ 替换为字符 $f$。$x$ 变成 $bcf$； 3. 在 $x$ 的末尾插入字符 $e$。$x$ 变成 $bcfe$。\n",
    ">\n",
    "> - 另一种可能的方法：1. 删除 $x$ 开头的 $a$,  $x$ 变成 $bcd$； 2. 在 $x$ 中字符 $d$ 之前插入字符 $f$。$x$ 变成 $bcfd$。3. 将 $x$ 中的字符 $d$ 替换为字符 $e$。$x$ 变成 $bcfe$。\n",
    "\n",
    "设计一个时间复杂度为 $O(mn)$ 的算法，返回将 $x$ 转换为 $y$ 所需的最少操作次数。分析算法设计思路，并基于python编程实现。\n"
   ]
  },
  {
   "cell_type": "markdown",
   "metadata": {},
   "source": [
    "idea：\n",
    "编辑距离问题，用动态规划，用dp表示将x[0..i-1]变为y[0..j-1]所需的最少操作数\n",
    "若 x[i-1] == y[j-1]，dp[i][j] = dp[i-1][j-1]（字符相同，无需操作）\n",
    "若 x[i-1] != y[j-1]，最少操作 = 1（一次操作）+ 三种情况（插入，删除，替换）中的最小值\n",
    "\n",
    "初始化：dp[0][j] = j,dp[i][0] = i，因为把空字符串变成y[0..j-1]需要插入j次，把x[0..i-1]变成空字符串需要删除i次"
   ]
  },
  {
   "cell_type": "code",
   "execution_count": 14,
   "metadata": {
    "ExecuteTime": {
     "end_time": "2025-05-13T16:41:59.177558Z",
     "start_time": "2025-05-13T16:41:59.169284Z"
    }
   },
   "outputs": [
    {
     "name": "stdout",
     "output_type": "stream",
     "text": [
      "最少操作次数: 3\n"
     ]
    }
   ],
   "source": [
    "# add your idea here\n",
    "def edit_distance(x: str, y: str) -> int:\n",
    "    n, m = len(x), len(y)\n",
    "    dp = [[0] * (m + 1) for _ in range(n + 1)]\n",
    "\n",
    "    # 初始化边界\n",
    "    for i in range(n + 1):\n",
    "        dp[i][0] = i\n",
    "    for j in range(m + 1):\n",
    "        dp[0][j] = j\n",
    "\n",
    "    # 状态转移\n",
    "    for i in range(1, n + 1):\n",
    "        for j in range(1, m + 1):\n",
    "            if x[i - 1] == y[j - 1]:\n",
    "                dp[i][j] = dp[i - 1][j - 1]\n",
    "            else:\n",
    "                dp[i][j] = 1 + min(\n",
    "                    dp[i - 1][j],     # 删除\n",
    "                    dp[i][j - 1],     # 插入\n",
    "                    dp[i - 1][j - 1]  # 替换\n",
    "                )\n",
    "\n",
    "    return dp[n][m]\n",
    "\n",
    "x = \"abcd\"\n",
    "y = \"bcfe\"\n",
    "print(\"最少操作次数:\", edit_distance(x, y)) \n",
    "\n",
    "# your algorithm time complexity is: O(mn)"
   ]
  },
  {
   "cell_type": "code",
   "outputs": [],
   "source": [],
   "metadata": {
    "collapsed": false
   }
  }
 ],
 "metadata": {
  "language_info": {
   "name": "python"
  },
  "kernelspec": {
   "name": "python3",
   "language": "python",
   "display_name": "Python 3 (ipykernel)"
  }
 },
 "nbformat": 4,
 "nbformat_minor": 2
}
